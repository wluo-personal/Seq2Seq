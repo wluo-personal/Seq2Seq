{
 "cells": [
  {
   "cell_type": "code",
   "execution_count": 1,
   "metadata": {
    "ExecuteTime": {
     "end_time": "2018-12-03T02:40:51.096950Z",
     "start_time": "2018-12-03T02:40:50.054703Z"
    }
   },
   "outputs": [
    {
     "name": "stderr",
     "output_type": "stream",
     "text": [
      "Using TensorFlow backend.\n"
     ]
    }
   ],
   "source": [
    "from keras.models import Model\n",
    "from keras.layers import Input, LSTM, Dense\n",
    "from keras import callbacks\n",
    "import numpy as np"
   ]
  },
  {
   "cell_type": "code",
   "execution_count": 2,
   "metadata": {
    "ExecuteTime": {
     "end_time": "2018-12-03T02:40:51.101672Z",
     "start_time": "2018-12-03T02:40:51.099069Z"
    }
   },
   "outputs": [],
   "source": [
    "# 基本参数\n",
    "batch_size = 64\n",
    "epochs = 200\n",
    "latent_dim = 256 # LSTM 的单元个数\n",
    "num_samples = 10000 # 训练样本的大小\n",
    "\n",
    "\n",
    "data_path = '../data/fra.txt'"
   ]
  },
  {
   "cell_type": "code",
   "execution_count": 3,
   "metadata": {
    "ExecuteTime": {
     "end_time": "2018-12-03T02:40:51.173128Z",
     "start_time": "2018-12-03T02:40:51.102850Z"
    }
   },
   "outputs": [
    {
     "data": {
      "text/plain": [
       "['Go.\\tVa !',\n",
       " 'Hi.\\tSalut !',\n",
       " 'Run!\\tCours\\u202f!',\n",
       " 'Run!\\tCourez\\u202f!',\n",
       " 'Wow!\\tÇa alors\\u202f!',\n",
       " 'Fire!\\tAu feu !',\n",
       " \"Help!\\tÀ l'aide\\u202f!\",\n",
       " 'Jump.\\tSaute.',\n",
       " 'Stop!\\tÇa suffit\\u202f!',\n",
       " 'Stop!\\tStop\\u202f!',\n",
       " 'Stop!\\tArrête-toi !',\n",
       " 'Wait!\\tAttends !',\n",
       " 'Wait!\\tAttendez !',\n",
       " 'Go on.\\tPoursuis.',\n",
       " 'Go on.\\tContinuez.',\n",
       " 'Go on.\\tPoursuivez.',\n",
       " 'Hello!\\tBonjour !',\n",
       " 'Hello!\\tSalut !',\n",
       " 'I see.\\tJe comprends.',\n",
       " \"I try.\\tJ'essaye.\"]"
      ]
     },
     "execution_count": 3,
     "metadata": {},
     "output_type": "execute_result"
    }
   ],
   "source": [
    "input_texts = []\n",
    "target_texts = []\n",
    "input_characters = set()\n",
    "target_characters = set()\n",
    "\n",
    "with open(data_path, 'r', encoding='utf-8') as f:\n",
    "    lines = f.read().split('\\n')\n",
    "# 显示部分数据\n",
    "lines[:20]\n"
   ]
  },
  {
   "cell_type": "code",
   "execution_count": 4,
   "metadata": {
    "ExecuteTime": {
     "end_time": "2018-12-03T02:40:51.207845Z",
     "start_time": "2018-12-03T02:40:51.176070Z"
    }
   },
   "outputs": [
    {
     "name": "stdout",
     "output_type": "stream",
     "text": [
      "Nunmber of samples: 10000\n",
      "Number of unique input tokens: 69\n",
      "Number of unique output tokens: 93\n",
      "Max sequence length of input: 16\n",
      "Max sequence length of outputs: 59\n"
     ]
    }
   ],
   "source": [
    "for line in lines[: min(num_samples, len(lines) - 1)]:\n",
    "    # 分割输入序列和目标序列\n",
    "    input_text, target_text = line.split('\\t')\n",
    "\n",
    "    # 用'tab'作为 一个序列的开始字符\n",
    "    # 用 '\\n' 作为 序列的结束字符\n",
    "    target_text = '\\t' + target_text + '\\n'\n",
    "\n",
    "    input_texts.append(input_text)\n",
    "    target_texts.append(target_text)\n",
    "\n",
    "    # 计算 input_text 中的 tokens\n",
    "    for char in input_text:\n",
    "        if char not in input_characters:\n",
    "            input_characters.add(char)\n",
    "\n",
    "    # 计算 target_text 中的 tokens\n",
    "    for char in target_text:\n",
    "        if char not in target_characters:\n",
    "            target_characters.add(char)\n",
    "\n",
    "input_characters = sorted(list(input_characters))\n",
    "target_characters = sorted(list(target_characters))\n",
    "num_encoder_tokens = len(input_characters)\n",
    "num_decoder_tokens = len(target_characters)\n",
    "max_encoder_seq_length = max([ len(txt) for txt in input_texts])\n",
    "max_decoder_seq_length = max([ len(txt) for txt in target_texts])\n",
    "\n",
    "print('Nunmber of samples:', len(input_texts))\n",
    "print('Number of unique input tokens:', num_encoder_tokens)\n",
    "print('Number of unique output tokens:', num_decoder_tokens)\n",
    "print('Max sequence length of input:', max_encoder_seq_length)\n",
    "print('Max sequence length of outputs:', max_decoder_seq_length)\n"
   ]
  },
  {
   "cell_type": "code",
   "execution_count": 5,
   "metadata": {
    "ExecuteTime": {
     "end_time": "2018-12-03T02:40:51.220068Z",
     "start_time": "2018-12-03T02:40:51.211476Z"
    }
   },
   "outputs": [],
   "source": [
    "# 建立 字符->数字 字典，用于字符的向量化\n",
    "input_token_index = dict( [(char, i)for i, char in enumerate(input_characters)] )\n",
    "target_token_index = dict( [(char, i) for i, char in enumerate(target_characters)] )\n"
   ]
  },
  {
   "cell_type": "code",
   "execution_count": 6,
   "metadata": {
    "ExecuteTime": {
     "end_time": "2018-12-03T02:40:51.414041Z",
     "start_time": "2018-12-03T02:40:51.221309Z"
    }
   },
   "outputs": [],
   "source": [
    "# 创建数组 \n",
    "encoder_input_data = np.zeros((len(input_texts), max_encoder_seq_length, num_encoder_tokens), dtype=np.float32)\n",
    "decoder_input_data = np.zeros((len(input_texts), max_decoder_seq_length, num_decoder_tokens), dtype=np.float32)\n",
    "decoder_target_data = np.zeros((len(input_texts), max_decoder_seq_length, num_decoder_tokens), dtype=np.float32)\n",
    "\n",
    "# 填充数据, 对每一个字符做one-hot\n",
    "for i, (input_text, target_text) in enumerate(zip(input_texts, target_texts)):\n",
    "    # 对编码器的输入序列做one-hot\n",
    "    for t, char in enumerate(input_text):\n",
    "        encoder_input_data[i, t, input_token_index[char]] = 1.0\n",
    "\n",
    "    # 对解码器的输入与输出做序列做one-hot\n",
    "    for t, char in enumerate(target_text):\n",
    "        decoder_input_data[i, t, target_token_index[char]] = 1.0\n",
    "\n",
    "        if t > 0:\n",
    "            # decoder_target_data 不包含开始字符，并且比decoder_input_data提前一步\n",
    "            decoder_target_data[i, t-1, target_token_index[char]] = 1.0\n"
   ]
  },
  {
   "cell_type": "code",
   "execution_count": 7,
   "metadata": {
    "ExecuteTime": {
     "end_time": "2018-12-03T02:40:51.634895Z",
     "start_time": "2018-12-03T02:40:51.415960Z"
    }
   },
   "outputs": [],
   "source": [
    "# 定义编码器的输入\n",
    "# encoder_inputs (None, num_encoder_tokens), None表示可以处理任意长度的序列\n",
    "encoder_inputs = Input(shape=(None, num_encoder_tokens))\n",
    "\n",
    "# 编码器，要求其返回状态\n",
    "encoder = LSTM(latent_dim, return_state=True)\n",
    "\n",
    "# 调用编码器，得到编码器的输出（输入其实不需要），以及状态信息 state_h 和 state_c\n",
    "encoder_outpus, state_h, state_c = encoder(encoder_inputs)\n",
    "\n",
    "# 丢弃encoder_outputs, 我们只需要编码器的状态\n",
    "encoder_state = [state_h, state_c]\n"
   ]
  },
  {
   "cell_type": "code",
   "execution_count": 8,
   "metadata": {
    "ExecuteTime": {
     "end_time": "2018-12-03T02:40:51.846911Z",
     "start_time": "2018-12-03T02:40:51.636345Z"
    }
   },
   "outputs": [],
   "source": [
    "# 定义解码器的输入\n",
    "# 同样的，None表示可以处理任意长度的序列\n",
    "decoder_inputs = Input(shape=(None, num_decoder_tokens))\n",
    "\n",
    "# 接下来建立解码器，解码器将返回整个输出序列\n",
    "# 并且返回其中间状态，中间状态在训练阶段不会用到，但是在推理阶段将是有用的\n",
    "decoder_lstm = LSTM(latent_dim, return_sequences=True, return_state=True)\n",
    "\n",
    "# 将编码器输出的状态作为初始解码器的初始状态\n",
    "decoder_outputs, _, _ = decoder_lstm(decoder_inputs, initial_state=encoder_state)\n",
    "\n",
    "# 添加全连接层\n",
    "decoder_dense = Dense(num_decoder_tokens, activation='softmax')\n",
    "decoder_outputs = decoder_dense(decoder_outputs)\n"
   ]
  },
  {
   "cell_type": "code",
   "execution_count": 9,
   "metadata": {
    "ExecuteTime": {
     "end_time": "2018-12-03T02:46:46.556108Z",
     "start_time": "2018-12-03T02:40:51.848287Z"
    }
   },
   "outputs": [
    {
     "name": "stdout",
     "output_type": "stream",
     "text": [
      "Train on 9000 samples, validate on 1000 samples\n",
      "Epoch 1/200\n",
      "9000/9000 [==============================] - 14s 2ms/step - loss: 0.9111 - acc: 0.0718 - val_loss: 0.9385 - val_acc: 0.0944\n",
      "Epoch 2/200\n",
      "9000/9000 [==============================] - 12s 1ms/step - loss: 0.7077 - acc: 0.1237 - val_loss: 0.7655 - val_acc: 0.1385\n",
      "Epoch 3/200\n",
      "9000/9000 [==============================] - 12s 1ms/step - loss: 0.6077 - acc: 0.1458 - val_loss: 0.6877 - val_acc: 0.1548\n",
      "Epoch 4/200\n",
      "9000/9000 [==============================] - 12s 1ms/step - loss: 0.5534 - acc: 0.1607 - val_loss: 0.6430 - val_acc: 0.1689\n",
      "Epoch 5/200\n",
      "9000/9000 [==============================] - 12s 1ms/step - loss: 0.5134 - acc: 0.1722 - val_loss: 0.6203 - val_acc: 0.1740\n",
      "Epoch 6/200\n",
      "9000/9000 [==============================] - 12s 1ms/step - loss: 0.4810 - acc: 0.1809 - val_loss: 0.5792 - val_acc: 0.1875\n",
      "Epoch 7/200\n",
      "9000/9000 [==============================] - 12s 1ms/step - loss: 0.4557 - acc: 0.1873 - val_loss: 0.5607 - val_acc: 0.1935\n",
      "Epoch 8/200\n",
      "9000/9000 [==============================] - 12s 1ms/step - loss: 0.4329 - acc: 0.1939 - val_loss: 0.5328 - val_acc: 0.1992\n",
      "Epoch 9/200\n",
      "9000/9000 [==============================] - 12s 1ms/step - loss: 0.4134 - acc: 0.1994 - val_loss: 0.5175 - val_acc: 0.2031\n",
      "Epoch 10/200\n",
      "9000/9000 [==============================] - 12s 1ms/step - loss: 0.3963 - acc: 0.2042 - val_loss: 0.5091 - val_acc: 0.2077\n",
      "Epoch 11/200\n",
      "9000/9000 [==============================] - 12s 1ms/step - loss: 0.3812 - acc: 0.2083 - val_loss: 0.5012 - val_acc: 0.2093\n",
      "Epoch 12/200\n",
      "9000/9000 [==============================] - 12s 1ms/step - loss: 0.3665 - acc: 0.2127 - val_loss: 0.4952 - val_acc: 0.2132\n",
      "Epoch 13/200\n",
      "9000/9000 [==============================] - 12s 1ms/step - loss: 0.3533 - acc: 0.2165 - val_loss: 0.4869 - val_acc: 0.2142\n",
      "Epoch 14/200\n",
      "9000/9000 [==============================] - 12s 1ms/step - loss: 0.3413 - acc: 0.2202 - val_loss: 0.4815 - val_acc: 0.2156\n",
      "Epoch 15/200\n",
      "9000/9000 [==============================] - 12s 1ms/step - loss: 0.3294 - acc: 0.2235 - val_loss: 0.4767 - val_acc: 0.2195\n",
      "Epoch 16/200\n",
      "9000/9000 [==============================] - 12s 1ms/step - loss: 0.3180 - acc: 0.2269 - val_loss: 0.4695 - val_acc: 0.2196\n",
      "Epoch 17/200\n",
      "9000/9000 [==============================] - 12s 1ms/step - loss: 0.3073 - acc: 0.2301 - val_loss: 0.4698 - val_acc: 0.2210\n",
      "Epoch 18/200\n",
      "9000/9000 [==============================] - 12s 1ms/step - loss: 0.2974 - acc: 0.2331 - val_loss: 0.4666 - val_acc: 0.2227\n",
      "Epoch 19/200\n",
      "9000/9000 [==============================] - 12s 1ms/step - loss: 0.2879 - acc: 0.2360 - val_loss: 0.4591 - val_acc: 0.2252\n",
      "Epoch 20/200\n",
      "9000/9000 [==============================] - 12s 1ms/step - loss: 0.2788 - acc: 0.2384 - val_loss: 0.4688 - val_acc: 0.2235\n",
      "Epoch 21/200\n",
      "9000/9000 [==============================] - 12s 1ms/step - loss: 0.2695 - acc: 0.2412 - val_loss: 0.4628 - val_acc: 0.2263\n",
      "Epoch 22/200\n",
      "9000/9000 [==============================] - 12s 1ms/step - loss: 0.2616 - acc: 0.2435 - val_loss: 0.4624 - val_acc: 0.2257\n",
      "Epoch 23/200\n",
      "9000/9000 [==============================] - 12s 1ms/step - loss: 0.2536 - acc: 0.2460 - val_loss: 0.4659 - val_acc: 0.2264\n",
      "Epoch 24/200\n",
      "9000/9000 [==============================] - 12s 1ms/step - loss: 0.2459 - acc: 0.2485 - val_loss: 0.4761 - val_acc: 0.2236\n",
      "Epoch 25/200\n",
      "9000/9000 [==============================] - 12s 1ms/step - loss: 0.2383 - acc: 0.2507 - val_loss: 0.4681 - val_acc: 0.2258\n",
      "Epoch 26/200\n",
      "9000/9000 [==============================] - 12s 1ms/step - loss: 0.2313 - acc: 0.2526 - val_loss: 0.4705 - val_acc: 0.2274\n",
      "Epoch 27/200\n",
      "9000/9000 [==============================] - 12s 1ms/step - loss: 0.2245 - acc: 0.2547 - val_loss: 0.4686 - val_acc: 0.2274\n",
      "Epoch 28/200\n",
      "9000/9000 [==============================] - 12s 1ms/step - loss: 0.2178 - acc: 0.2566 - val_loss: 0.4745 - val_acc: 0.2275\n",
      "Epoch 29/200\n",
      "9000/9000 [==============================] - 12s 1ms/step - loss: 0.2119 - acc: 0.2582 - val_loss: 0.4804 - val_acc: 0.2278\n"
     ]
    },
    {
     "data": {
      "text/plain": [
       "<keras.callbacks.History at 0x7f04d880d048>"
      ]
     },
     "execution_count": 9,
     "metadata": {},
     "output_type": "execute_result"
    }
   ],
   "source": [
    "# 定义整个模型\n",
    "model = Model([encoder_inputs, decoder_inputs], decoder_outputs)\n",
    "\n",
    "# 定义回调函数\n",
    "callback_list = [callbacks.EarlyStopping(patience=10)]\n",
    "# 编译模型\n",
    "model.compile(optimizer='rmsprop', loss='categorical_crossentropy',metrics=['accuracy'])\n",
    "\n",
    "# 训练\n",
    "model.fit([encoder_input_data, decoder_input_data], decoder_target_data,\n",
    "          batch_size=batch_size,\n",
    "          epochs = epochs,\n",
    "          validation_split=0.1,\n",
    "          callbacks=callback_list)\n"
   ]
  },
  {
   "cell_type": "code",
   "execution_count": 27,
   "metadata": {
    "ExecuteTime": {
     "end_time": "2018-12-03T02:51:52.920173Z",
     "start_time": "2018-12-03T02:51:52.813480Z"
    }
   },
   "outputs": [],
   "source": [
    "# 定义 sampling 模型\n",
    "# 定义 encoder 模型，得到输出encoder_states\n",
    "encoder_model = Model(encoder_inputs, encoder_state)\n",
    "\n",
    "decoder_state_input_h = Input(shape=(latent_dim,))\n",
    "decoder_state_input_c = Input(shape=(latent_dim,))\n",
    "decoder_states_inputs = [decoder_state_input_h, decoder_state_input_c]\n",
    "\n",
    "# 得到解码器的输出以及中间状态\n",
    "decoder_outputs, state_h, state_c = decoder_lstm(decoder_inputs, initial_state=decoder_states_inputs)\n",
    "decoder_states = [state_h, state_c]\n",
    "decoder_outputs = decoder_dense(decoder_outputs)\n",
    "\n",
    "decoder_model = Model([decoder_inputs] + decoder_states_inputs, [decoder_outputs]+decoder_states)\n"
   ]
  },
  {
   "cell_type": "code",
   "execution_count": 28,
   "metadata": {
    "ExecuteTime": {
     "end_time": "2018-12-03T02:51:53.490286Z",
     "start_time": "2018-12-03T02:51:53.485514Z"
    }
   },
   "outputs": [],
   "source": [
    "# 建立 数字->字符 的字典，用于恢复\n",
    "reverse_input_char_index = dict([(i, char) for char, i in input_token_index.items()])\n",
    "reverse_target_char_index = dict([(i, char) for char, i in target_token_index.items()])\n"
   ]
  },
  {
   "cell_type": "code",
   "execution_count": 29,
   "metadata": {
    "ExecuteTime": {
     "end_time": "2018-12-03T02:51:54.038894Z",
     "start_time": "2018-12-03T02:51:54.030013Z"
    }
   },
   "outputs": [],
   "source": [
    "def decode_sequence(input_seq):\n",
    "    # 将输入序列进行编码\n",
    "    states_value = encoder_model.predict(input_seq)\n",
    "\n",
    "    # 生成一个size=1的空序列\n",
    "    target_seq = np.zeros((1, 1, num_decoder_tokens))\n",
    "    # 将这个空序列的内容设置为开始字符\n",
    "    target_seq[0, 0, target_token_index['\\t']] = 1.\n",
    "\n",
    "    # 进行字符恢复\n",
    "    # 简单起见，假设batch_size = 1\n",
    "    stop_condition = False\n",
    "    decoded_sentence = ''\n",
    "\n",
    "    while not stop_condition:\n",
    "        output_tokens, h, c = decoder_model.predict([target_seq] + states_value)\n",
    "\n",
    "        # sample a token\n",
    "        sampled_token_index = np.argmax(output_tokens[0, -1, :])\n",
    "        sampled_char = reverse_target_char_index[sampled_token_index]\n",
    "        decoded_sentence += sampled_char\n",
    "\n",
    "        # 退出条件：生成 \\n 或者 超过最大序列长度\n",
    "        if sampled_char == '\\n' or len(decoded_sentence) > max_decoder_seq_length :\n",
    "            stop_condition = True\n",
    "\n",
    "        # 更新target_seq\n",
    "        target_seq = np.zeros((1, 1, num_decoder_tokens))\n",
    "        target_seq[0, 0, sampled_token_index] = 1.\n",
    "\n",
    "        # 更新中间状态\n",
    "        states_value = [h, c]\n",
    "\n",
    "    return decoded_sentence\n"
   ]
  },
  {
   "cell_type": "code",
   "execution_count": 30,
   "metadata": {
    "ExecuteTime": {
     "end_time": "2018-12-03T02:51:59.046585Z",
     "start_time": "2018-12-03T02:51:54.805290Z"
    }
   },
   "outputs": [
    {
     "name": "stdout",
     "output_type": "stream",
     "text": [
      "-\n",
      "Input sentence: Be careful!\n",
      "Decoded sentence: Soyez prudentes !\n",
      "\n",
      "-\n",
      "Input sentence: Be careful!\n",
      "Decoded sentence: Soyez prudentes !\n",
      "\n",
      "-\n",
      "Input sentence: Be careful!\n",
      "Decoded sentence: Soyez prudentes !\n",
      "\n",
      "-\n",
      "Input sentence: Be careful!\n",
      "Decoded sentence: Soyez prudentes !\n",
      "\n",
      "-\n",
      "Input sentence: Be careful!\n",
      "Decoded sentence: Soyez prudentes !\n",
      "\n",
      "-\n",
      "Input sentence: Be careful!\n",
      "Decoded sentence: Soyez prudentes !\n",
      "\n",
      "-\n",
      "Input sentence: Be careful!\n",
      "Decoded sentence: Soyez prudentes !\n",
      "\n",
      "-\n",
      "Input sentence: Be careful!\n",
      "Decoded sentence: Soyez prudentes !\n",
      "\n",
      "-\n",
      "Input sentence: Be careful!\n",
      "Decoded sentence: Soyez prudentes !\n",
      "\n",
      "-\n",
      "Input sentence: Be careful.\n",
      "Decoded sentence: Soyez prudentes !\n",
      "\n",
      "-\n",
      "Input sentence: Be careful.\n",
      "Decoded sentence: Soyez prudentes !\n",
      "\n",
      "-\n",
      "Input sentence: Be careful.\n",
      "Decoded sentence: Soyez prudentes !\n",
      "\n",
      "-\n",
      "Input sentence: Be careful.\n",
      "Decoded sentence: Soyez prudentes !\n",
      "\n",
      "-\n",
      "Input sentence: Be careful.\n",
      "Decoded sentence: Soyez prudentes !\n",
      "\n",
      "-\n",
      "Input sentence: Be careful.\n",
      "Decoded sentence: Soyez prudentes !\n",
      "\n",
      "-\n",
      "Input sentence: Be content.\n",
      "Decoded sentence: Soyez confiants !\n",
      "\n",
      "-\n",
      "Input sentence: Be content.\n",
      "Decoded sentence: Soyez confiants !\n",
      "\n",
      "-\n",
      "Input sentence: Be content.\n",
      "Decoded sentence: Soyez confiants !\n",
      "\n",
      "-\n",
      "Input sentence: Be content.\n",
      "Decoded sentence: Soyez confiants !\n",
      "\n",
      "-\n",
      "Input sentence: Be content.\n",
      "Decoded sentence: Soyez confiants !\n",
      "\n",
      "-\n",
      "Input sentence: Be content.\n",
      "Decoded sentence: Soyez confiants !\n",
      "\n",
      "-\n",
      "Input sentence: Be on time.\n",
      "Decoded sentence: Soyez impitoyable !\n",
      "\n",
      "-\n",
      "Input sentence: Be on time.\n",
      "Decoded sentence: Soyez impitoyable !\n",
      "\n",
      "-\n",
      "Input sentence: Be serious.\n",
      "Decoded sentence: Soyez impitoyable !\n",
      "\n",
      "-\n",
      "Input sentence: Be serious.\n",
      "Decoded sentence: Soyez impitoyable !\n",
      "\n",
      "-\n",
      "Input sentence: Be serious.\n",
      "Decoded sentence: Soyez impitoyable !\n",
      "\n",
      "-\n",
      "Input sentence: Be serious.\n",
      "Decoded sentence: Soyez impitoyable !\n",
      "\n",
      "-\n",
      "Input sentence: Be serious.\n",
      "Decoded sentence: Soyez impitoyable !\n",
      "\n",
      "-\n",
      "Input sentence: Birds sing.\n",
      "Decoded sentence: Laissez-le s'en alle!\n",
      "\n",
      "-\n",
      "Input sentence: Bottoms up!\n",
      "Decoded sentence: Bange !\n",
      "\n",
      "-\n",
      "Input sentence: Bring food.\n",
      "Decoded sentence: Apportez du vin.\n",
      "\n",
      "-\n",
      "Input sentence: Bring food.\n",
      "Decoded sentence: Apportez du vin.\n",
      "\n",
      "-\n",
      "Input sentence: Bring wine.\n",
      "Decoded sentence: Apportez-le ici.\n",
      "\n",
      "-\n",
      "Input sentence: Bring wine.\n",
      "Decoded sentence: Apportez-le ici.\n",
      "\n",
      "-\n",
      "Input sentence: Can I come?\n",
      "Decoded sentence: Puis-je entrer ?\n",
      "\n",
      "-\n",
      "Input sentence: Can I help?\n",
      "Decoded sentence: Puis-je entrer ?\n",
      "\n",
      "-\n",
      "Input sentence: Can I stay?\n",
      "Decoded sentence: Puis-je entrer ?\n",
      "\n",
      "-\n",
      "Input sentence: Carry this.\n",
      "Decoded sentence: Attrapez Tom.\n",
      "\n",
      "-\n",
      "Input sentence: Check that.\n",
      "Decoded sentence: Régarge ça.\n",
      "\n",
      "-\n",
      "Input sentence: Check that.\n",
      "Decoded sentence: Régarge ça.\n",
      "\n",
      "-\n",
      "Input sentence: Check that.\n",
      "Decoded sentence: Régarge ça.\n",
      "\n",
      "-\n",
      "Input sentence: Check this.\n",
      "Decoded sentence: Vérifie ça.\n",
      "\n",
      "-\n",
      "Input sentence: Check this.\n",
      "Decoded sentence: Vérifie ça.\n",
      "\n",
      "-\n",
      "Input sentence: Choose one.\n",
      "Decoded sentence: Choisis-en un.\n",
      "\n",
      "-\n",
      "Input sentence: Choose one.\n",
      "Decoded sentence: Choisis-en un.\n",
      "\n",
      "-\n",
      "Input sentence: Come alone.\n",
      "Decoded sentence: Viens seul !\n",
      "\n",
      "-\n",
      "Input sentence: Come alone.\n",
      "Decoded sentence: Viens seul !\n",
      "\n",
      "-\n",
      "Input sentence: Come alone.\n",
      "Decoded sentence: Viens seul !\n",
      "\n",
      "-\n",
      "Input sentence: Come alone.\n",
      "Decoded sentence: Viens seul !\n",
      "\n",
      "-\n",
      "Input sentence: Come alone.\n",
      "Decoded sentence: Viens seul !\n",
      "\n",
      "-\n",
      "Input sentence: Come alone.\n",
      "Decoded sentence: Viens seul !\n",
      "\n",
      "-\n",
      "Input sentence: Come along.\n",
      "Decoded sentence: Viens seul !\n",
      "\n",
      "-\n",
      "Input sentence: Come on in!\n",
      "Decoded sentence: Dépêchez-vous d'aller !\n",
      "\n",
      "-\n",
      "Input sentence: Come on in.\n",
      "Decoded sentence: Viens ici !\n",
      "\n",
      "-\n",
      "Input sentence: Come quick!\n",
      "Decoded sentence: Viens vien !\n",
      "\n",
      "-\n",
      "Input sentence: Come quick!\n",
      "Decoded sentence: Viens vien !\n",
      "\n",
      "-\n",
      "Input sentence: Come to me.\n",
      "Decoded sentence: Viens ici !\n",
      "\n",
      "-\n",
      "Input sentence: Come to us.\n",
      "Decoded sentence: Viens ici !\n",
      "\n",
      "-\n",
      "Input sentence: Cut it out!\n",
      "Decoded sentence: Arrête !\n",
      "\n",
      "-\n",
      "Input sentence: Cut it out!\n",
      "Decoded sentence: Arrête !\n",
      "\n",
      "-\n",
      "Input sentence: Cut it out.\n",
      "Decoded sentence: Arrêtez !\n",
      "\n",
      "-\n",
      "Input sentence: Did we win?\n",
      "Decoded sentence: L'as-tu vous ?\n",
      "\n",
      "-\n",
      "Input sentence: Do I stink?\n",
      "Decoded sentence: Ai-je l'air ?\n",
      "\n",
      "-\n",
      "Input sentence: Do come in!\n",
      "Decoded sentence: Personne ne s'en soucie.\n",
      "\n",
      "-\n",
      "Input sentence: Do men cry?\n",
      "Decoded sentence: Personne ne triste.\n",
      "\n",
      "-\n",
      "Input sentence: Don't fret.\n",
      "Decoded sentence: Ne reure pas.\n",
      "\n",
      "-\n",
      "Input sentence: Don't fret.\n",
      "Decoded sentence: Ne reure pas.\n",
      "\n",
      "-\n",
      "Input sentence: Don't fret.\n",
      "Decoded sentence: Ne reure pas.\n",
      "\n",
      "-\n",
      "Input sentence: Don't fret.\n",
      "Decoded sentence: Ne reure pas.\n",
      "\n",
      "-\n",
      "Input sentence: Don't jump!\n",
      "Decoded sentence: Ne me tuez pas !\n",
      "\n",
      "-\n",
      "Input sentence: Don't jump!\n",
      "Decoded sentence: Ne me tuez pas !\n",
      "\n",
      "-\n",
      "Input sentence: Don't move!\n",
      "Decoded sentence: Ne le faites pas !\n",
      "\n",
      "-\n",
      "Input sentence: Don't move!\n",
      "Decoded sentence: Ne le faites pas !\n",
      "\n",
      "-\n",
      "Input sentence: Don't move.\n",
      "Decoded sentence: Ne le faites pas !\n",
      "\n",
      "-\n",
      "Input sentence: Don't move.\n",
      "Decoded sentence: Ne le faites pas !\n",
      "\n",
      "-\n",
      "Input sentence: Don't rush.\n",
      "Decoded sentence: Ne le faites pas !\n",
      "\n",
      "-\n",
      "Input sentence: Don't rush.\n",
      "Decoded sentence: Ne le faites pas !\n",
      "\n",
      "-\n",
      "Input sentence: Don't sing.\n",
      "Decoded sentence: Ne le fais pas !\n",
      "\n",
      "-\n",
      "Input sentence: Don't sing.\n",
      "Decoded sentence: Ne le fais pas !\n",
      "\n",
      "-\n",
      "Input sentence: Don't talk!\n",
      "Decoded sentence: Ne me tuez pas !\n",
      "\n",
      "-\n",
      "Input sentence: Don't talk!\n",
      "Decoded sentence: Ne me tuez pas !\n",
      "\n",
      "-\n",
      "Input sentence: Don't talk.\n",
      "Decoded sentence: Ne tout pas !\n",
      "\n",
      "-\n",
      "Input sentence: Don't talk.\n",
      "Decoded sentence: Ne tout pas !\n",
      "\n",
      "-\n",
      "Input sentence: Don't wait.\n",
      "Decoded sentence: Ne te plais pas.\n",
      "\n",
      "-\n",
      "Input sentence: Don't wait.\n",
      "Decoded sentence: Ne te plais pas.\n",
      "\n",
      "-\n",
      "Input sentence: Duty calls.\n",
      "Decoded sentence: Laissez l'emporter.\n",
      "\n",
      "-\n",
      "Input sentence: Face facts!\n",
      "Decoded sentence: Reviens !\n",
      "\n",
      "-\n",
      "Input sentence: Face facts!\n",
      "Decoded sentence: Reviens !\n",
      "\n",
      "-\n",
      "Input sentence: Face facts!\n",
      "Decoded sentence: Reviens !\n",
      "\n",
      "-\n",
      "Input sentence: Fill it up.\n",
      "Decoded sentence: Attrapez ça.\n",
      "\n",
      "-\n",
      "Input sentence: Find a job.\n",
      "Decoded sentence: Trouve un emploi !\n",
      "\n",
      "-\n",
      "Input sentence: Find a job.\n",
      "Decoded sentence: Trouve un emploi !\n",
      "\n",
      "-\n",
      "Input sentence: Follow Tom.\n",
      "Decoded sentence: Suis-le !\n",
      "\n",
      "-\n",
      "Input sentence: Follow Tom.\n",
      "Decoded sentence: Suis-le !\n",
      "\n",
      "-\n",
      "Input sentence: Follow him.\n",
      "Decoded sentence: Suis-le !\n",
      "\n",
      "-\n",
      "Input sentence: Follow him.\n",
      "Decoded sentence: Suis-le !\n",
      "\n",
      "-\n",
      "Input sentence: Forget Tom.\n",
      "Decoded sentence: Oubliez !\n",
      "\n",
      "-\n",
      "Input sentence: Forget Tom.\n",
      "Decoded sentence: Oubliez !\n",
      "\n",
      "-\n",
      "Input sentence: Forget him.\n",
      "Decoded sentence: Oubliez !\n",
      "\n",
      "-\n",
      "Input sentence: Forget him.\n",
      "Decoded sentence: Oubliez !\n",
      "\n"
     ]
    }
   ],
   "source": [
    "# 检验成果的时候到了,从训练集中选取一些句子做测试\n",
    "# 效果还行（废话，从训练集里挑的数据）\n",
    "for seq_index in range(1000, 1100):\n",
    "    # batch_size = 1\n",
    "    input_seq = encoder_input_data[seq_index:seq_index+1]\n",
    "    decoded_sentence = decode_sequence(input_seq)\n",
    "\n",
    "    print('-')\n",
    "    print('Input sentence:', input_texts[seq_index])\n",
    "    print('Decoded sentence:', decoded_sentence)\n"
   ]
  },
  {
   "cell_type": "markdown",
   "metadata": {},
   "source": [
    "# Analysis decoder"
   ]
  },
  {
   "cell_type": "code",
   "execution_count": 14,
   "metadata": {
    "ExecuteTime": {
     "end_time": "2018-12-03T02:46:50.953929Z",
     "start_time": "2018-12-03T02:46:50.948003Z"
    }
   },
   "outputs": [
    {
     "name": "stdout",
     "output_type": "stream",
     "text": [
      "__________________________________________________________________________________________________\n",
      "Layer (type)                    Output Shape         Param #     Connected to                     \n",
      "==================================================================================================\n",
      "input_2 (InputLayer)            (None, None, 93)     0                                            \n",
      "__________________________________________________________________________________________________\n",
      "input_3 (InputLayer)            (None, 256)          0                                            \n",
      "__________________________________________________________________________________________________\n",
      "input_4 (InputLayer)            (None, 256)          0                                            \n",
      "__________________________________________________________________________________________________\n",
      "lstm_2 (LSTM)                   [(None, None, 256),  358400      input_2[0][0]                    \n",
      "                                                                 input_3[0][0]                    \n",
      "                                                                 input_4[0][0]                    \n",
      "__________________________________________________________________________________________________\n",
      "dense_1 (Dense)                 (None, None, 93)     23901       lstm_2[1][0]                     \n",
      "==================================================================================================\n",
      "Total params: 382,301\n",
      "Trainable params: 382,301\n",
      "Non-trainable params: 0\n",
      "__________________________________________________________________________________________________\n"
     ]
    }
   ],
   "source": [
    "decoder_model.summary()"
   ]
  },
  {
   "cell_type": "code",
   "execution_count": 15,
   "metadata": {
    "ExecuteTime": {
     "end_time": "2018-12-03T02:46:50.975585Z",
     "start_time": "2018-12-03T02:46:50.956992Z"
    }
   },
   "outputs": [
    {
     "name": "stdout",
     "output_type": "stream",
     "text": [
      "Be careful!\n"
     ]
    },
    {
     "data": {
      "text/plain": [
       "(1, 16, 69)"
      ]
     },
     "execution_count": 15,
     "metadata": {},
     "output_type": "execute_result"
    }
   ],
   "source": [
    "seq_index = 1000\n",
    "input_seq = encoder_input_data[seq_index:seq_index+1]\n",
    "print(input_texts[seq_index])\n",
    "input_seq.shape"
   ]
  },
  {
   "cell_type": "code",
   "execution_count": 16,
   "metadata": {
    "ExecuteTime": {
     "end_time": "2018-12-03T02:46:50.993302Z",
     "start_time": "2018-12-03T02:46:50.978570Z"
    }
   },
   "outputs": [
    {
     "name": "stdout",
     "output_type": "stream",
     "text": [
      "status h shape: (1, 256)\n",
      "status c shape: (1, 256)\n"
     ]
    }
   ],
   "source": [
    "states_value = encoder_model.predict(input_seq)\n",
    "\n",
    "# 生成一个size=1的空序列\n",
    "target_seq = np.zeros((1, 1, num_decoder_tokens))\n",
    "# 将这个空序列的内容设置为开始字符\n",
    "target_seq[0, 0, target_token_index['\\t']] = 1.\n",
    "\n",
    "# 进行字符恢复\n",
    "# 简单起见，假设batch_size = 1\n",
    "stop_condition = False\n",
    "decoded_sentence = ''\n",
    "\n",
    "print('status h shape: {}'.format(states_value[0].shape))\n",
    "print('status c shape: {}'.format(states_value[1].shape))"
   ]
  },
  {
   "cell_type": "markdown",
   "metadata": {
    "ExecuteTime": {
     "end_time": "2018-12-02T23:46:10.982861Z",
     "start_time": "2018-12-02T23:46:10.977474Z"
    }
   },
   "source": [
    "### round 1"
   ]
  },
  {
   "cell_type": "code",
   "execution_count": 17,
   "metadata": {
    "ExecuteTime": {
     "end_time": "2018-12-03T02:46:51.002343Z",
     "start_time": "2018-12-03T02:46:50.996284Z"
    }
   },
   "outputs": [
    {
     "name": "stdout",
     "output_type": "stream",
     "text": [
      "(1, 1, 93)\n"
     ]
    }
   ],
   "source": [
    "output_tokens, h, c = decoder_model.predict([target_seq] + states_value)\n",
    "print(output_tokens.shape)"
   ]
  },
  {
   "cell_type": "code",
   "execution_count": 18,
   "metadata": {
    "ExecuteTime": {
     "end_time": "2018-12-03T02:46:51.014397Z",
     "start_time": "2018-12-03T02:46:51.009049Z"
    }
   },
   "outputs": [
    {
     "name": "stdout",
     "output_type": "stream",
     "text": [
      "sampled char is: S\n",
      "decoded sentence is: S\n"
     ]
    }
   ],
   "source": [
    "# sample a token\n",
    "sampled_token_index = np.argmax(output_tokens[0, -1, :])\n",
    "sampled_char = reverse_target_char_index[sampled_token_index]\n",
    "decoded_sentence += sampled_char\n",
    "print('sampled char is: {}' . format(sampled_char))\n",
    "print('decoded sentence is: {}' . format(decoded_sentence))"
   ]
  },
  {
   "cell_type": "code",
   "execution_count": 19,
   "metadata": {
    "ExecuteTime": {
     "end_time": "2018-12-03T02:46:51.022457Z",
     "start_time": "2018-12-03T02:46:51.018377Z"
    }
   },
   "outputs": [],
   "source": [
    " # 更新target_seq\n",
    "target_seq = np.zeros((1, 1, num_decoder_tokens))\n",
    "target_seq[0, 0, sampled_token_index] = 1.\n",
    "\n",
    "# 更新中间状态\n",
    "states_value = [h, c]"
   ]
  },
  {
   "cell_type": "markdown",
   "metadata": {},
   "source": [
    "### round 2"
   ]
  },
  {
   "cell_type": "code",
   "execution_count": 20,
   "metadata": {
    "ExecuteTime": {
     "end_time": "2018-12-03T02:46:51.033686Z",
     "start_time": "2018-12-03T02:46:51.025045Z"
    }
   },
   "outputs": [
    {
     "name": "stdout",
     "output_type": "stream",
     "text": [
      "(1, 1, 93)\n",
      "sampled char is: o\n",
      "decoded sentence is: So\n"
     ]
    }
   ],
   "source": [
    "output_tokens, h, c = decoder_model.predict([target_seq] + states_value)\n",
    "print(output_tokens.shape)\n",
    "\n",
    "# sample a token\n",
    "sampled_token_index = np.argmax(output_tokens[0, -1, :])\n",
    "sampled_char = reverse_target_char_index[sampled_token_index]\n",
    "decoded_sentence += sampled_char\n",
    "print('sampled char is: {}' . format(sampled_char))\n",
    "print('decoded sentence is: {}' . format(decoded_sentence))\n",
    "\n",
    " # 更新target_seq\n",
    "target_seq = np.zeros((1, 1, num_decoder_tokens))\n",
    "target_seq[0, 0, sampled_token_index] = 1.\n",
    "\n",
    "# 更新中间状态\n",
    "states_value = [h, c]"
   ]
  },
  {
   "cell_type": "markdown",
   "metadata": {},
   "source": [
    "### round 3"
   ]
  },
  {
   "cell_type": "code",
   "execution_count": 21,
   "metadata": {
    "ExecuteTime": {
     "end_time": "2018-12-03T02:46:51.043513Z",
     "start_time": "2018-12-03T02:46:51.035794Z"
    }
   },
   "outputs": [
    {
     "name": "stdout",
     "output_type": "stream",
     "text": [
      "(1, 1, 93)\n",
      "sampled char is: y\n",
      "decoded sentence is: Soy\n"
     ]
    }
   ],
   "source": [
    "output_tokens, h, c = decoder_model.predict([target_seq] + states_value)\n",
    "print(output_tokens.shape)\n",
    "\n",
    "# sample a token\n",
    "sampled_token_index = np.argmax(output_tokens[0, -1, :])\n",
    "sampled_char = reverse_target_char_index[sampled_token_index]\n",
    "decoded_sentence += sampled_char\n",
    "print('sampled char is: {}' . format(sampled_char))\n",
    "print('decoded sentence is: {}' . format(decoded_sentence))\n",
    "\n",
    " # 更新target_seq\n",
    "target_seq = np.zeros((1, 1, num_decoder_tokens))\n",
    "target_seq[0, 0, sampled_token_index] = 1.\n",
    "\n",
    "# 更新中间状态\n",
    "states_value = [h, c]"
   ]
  },
  {
   "cell_type": "markdown",
   "metadata": {},
   "source": [
    "### round 4"
   ]
  },
  {
   "cell_type": "code",
   "execution_count": 22,
   "metadata": {
    "ExecuteTime": {
     "end_time": "2018-12-03T02:46:51.053517Z",
     "start_time": "2018-12-03T02:46:51.045665Z"
    }
   },
   "outputs": [
    {
     "name": "stdout",
     "output_type": "stream",
     "text": [
      "(1, 1, 93)\n",
      "sampled char is: e\n",
      "decoded sentence is: Soye\n"
     ]
    }
   ],
   "source": [
    "output_tokens, h, c = decoder_model.predict([target_seq] + states_value)\n",
    "print(output_tokens.shape)\n",
    "\n",
    "# sample a token\n",
    "sampled_token_index = np.argmax(output_tokens[0, -1, :])\n",
    "sampled_char = reverse_target_char_index[sampled_token_index]\n",
    "decoded_sentence += sampled_char\n",
    "print('sampled char is: {}' . format(sampled_char))\n",
    "print('decoded sentence is: {}' . format(decoded_sentence))\n",
    "\n",
    " # 更新target_seq\n",
    "target_seq = np.zeros((1, 1, num_decoder_tokens))\n",
    "target_seq[0, 0, sampled_token_index] = 1.\n",
    "\n",
    "# 更新中间状态\n",
    "states_value = [h, c]"
   ]
  },
  {
   "cell_type": "markdown",
   "metadata": {},
   "source": [
    "### round 5"
   ]
  },
  {
   "cell_type": "code",
   "execution_count": 23,
   "metadata": {
    "ExecuteTime": {
     "end_time": "2018-12-03T02:46:51.063505Z",
     "start_time": "2018-12-03T02:46:51.055605Z"
    }
   },
   "outputs": [
    {
     "name": "stdout",
     "output_type": "stream",
     "text": [
      "(1, 1, 93)\n",
      "sampled char is: z\n",
      "decoded sentence is: Soyez\n"
     ]
    }
   ],
   "source": [
    "output_tokens, h, c = decoder_model.predict([target_seq] + states_value)\n",
    "print(output_tokens.shape)\n",
    "\n",
    "# sample a token\n",
    "sampled_token_index = np.argmax(output_tokens[0, -1, :])\n",
    "sampled_char = reverse_target_char_index[sampled_token_index]\n",
    "decoded_sentence += sampled_char\n",
    "print('sampled char is: {}' . format(sampled_char))\n",
    "print('decoded sentence is: {}' . format(decoded_sentence))\n",
    "\n",
    " # 更新target_seq\n",
    "target_seq = np.zeros((1, 1, num_decoder_tokens))\n",
    "target_seq[0, 0, sampled_token_index] = 1.\n",
    "\n",
    "# 更新中间状态\n",
    "states_value = [h, c]"
   ]
  },
  {
   "cell_type": "markdown",
   "metadata": {},
   "source": [
    "#### round 6"
   ]
  },
  {
   "cell_type": "code",
   "execution_count": 24,
   "metadata": {
    "ExecuteTime": {
     "end_time": "2018-12-03T02:46:51.073239Z",
     "start_time": "2018-12-03T02:46:51.065618Z"
    }
   },
   "outputs": [
    {
     "name": "stdout",
     "output_type": "stream",
     "text": [
      "(1, 1, 93)\n",
      "sampled char is:  \n",
      "decoded sentence is: Soyez \n"
     ]
    }
   ],
   "source": [
    "output_tokens, h, c = decoder_model.predict([target_seq] + states_value)\n",
    "print(output_tokens.shape)\n",
    "\n",
    "# sample a token\n",
    "sampled_token_index = np.argmax(output_tokens[0, -1, :])\n",
    "sampled_char = reverse_target_char_index[sampled_token_index]\n",
    "decoded_sentence += sampled_char\n",
    "print('sampled char is: {}' . format(sampled_char))\n",
    "print('decoded sentence is: {}' . format(decoded_sentence))\n",
    "\n",
    " # 更新target_seq\n",
    "target_seq = np.zeros((1, 1, num_decoder_tokens))\n",
    "target_seq[0, 0, sampled_token_index] = 1.\n",
    "\n",
    "# 更新中间状态\n",
    "states_value = [h, c]"
   ]
  },
  {
   "cell_type": "markdown",
   "metadata": {},
   "source": [
    "### round 7"
   ]
  },
  {
   "cell_type": "code",
   "execution_count": 25,
   "metadata": {
    "ExecuteTime": {
     "end_time": "2018-12-03T02:46:51.083213Z",
     "start_time": "2018-12-03T02:46:51.075423Z"
    }
   },
   "outputs": [
    {
     "name": "stdout",
     "output_type": "stream",
     "text": [
      "(1, 1, 93)\n",
      "sampled char is: p\n",
      "decoded sentence is: Soyez p\n"
     ]
    }
   ],
   "source": [
    "output_tokens, h, c = decoder_model.predict([target_seq] + states_value)\n",
    "print(output_tokens.shape)\n",
    "\n",
    "# sample a token\n",
    "sampled_token_index = np.argmax(output_tokens[0, -1, :])\n",
    "sampled_char = reverse_target_char_index[sampled_token_index]\n",
    "decoded_sentence += sampled_char\n",
    "print('sampled char is: {}' . format(sampled_char))\n",
    "print('decoded sentence is: {}' . format(decoded_sentence))\n",
    "\n",
    " # 更新target_seq\n",
    "target_seq = np.zeros((1, 1, num_decoder_tokens))\n",
    "target_seq[0, 0, sampled_token_index] = 1.\n",
    "\n",
    "# 更新中间状态\n",
    "states_value = [h, c]"
   ]
  },
  {
   "cell_type": "code",
   "execution_count": 26,
   "metadata": {
    "ExecuteTime": {
     "end_time": "2018-12-03T02:46:51.089362Z",
     "start_time": "2018-12-03T02:46:51.085328Z"
    }
   },
   "outputs": [
    {
     "data": {
      "text/plain": [
       "'p'"
      ]
     },
     "execution_count": 26,
     "metadata": {},
     "output_type": "execute_result"
    }
   ],
   "source": [
    "sampled_char"
   ]
  }
 ],
 "metadata": {
  "kernelspec": {
   "display_name": "python3.6-GPU",
   "language": "python",
   "name": "python3.6-gpu"
  },
  "language_info": {
   "codemirror_mode": {
    "name": "ipython",
    "version": 3
   },
   "file_extension": ".py",
   "mimetype": "text/x-python",
   "name": "python",
   "nbconvert_exporter": "python",
   "pygments_lexer": "ipython3",
   "version": "3.6.6"
  }
 },
 "nbformat": 4,
 "nbformat_minor": 2
}
