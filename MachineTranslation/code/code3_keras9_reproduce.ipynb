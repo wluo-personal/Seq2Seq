{
 "cells": [
  {
   "cell_type": "code",
   "execution_count": 1,
   "metadata": {
    "ExecuteTime": {
     "end_time": "2018-12-03T03:07:38.066205Z",
     "start_time": "2018-12-03T03:07:37.018184Z"
    }
   },
   "outputs": [
    {
     "name": "stderr",
     "output_type": "stream",
     "text": [
      "Using TensorFlow backend.\n"
     ]
    }
   ],
   "source": [
    "from keras.models import Model\n",
    "from keras.layers import Input, LSTM, Dense\n",
    "from keras import callbacks\n",
    "import numpy as np"
   ]
  },
  {
   "cell_type": "code",
   "execution_count": 2,
   "metadata": {
    "ExecuteTime": {
     "end_time": "2018-12-03T03:07:38.070963Z",
     "start_time": "2018-12-03T03:07:38.068428Z"
    }
   },
   "outputs": [],
   "source": [
    "# 基本参数\n",
    "batch_size = 64\n",
    "epochs = 100\n",
    "latent_dim = 256 # LSTM 的单元个数\n",
    "num_samples = 10000 # 训练样本的大小\n",
    "\n",
    "\n",
    "data_path = '../data/cmn.txt'"
   ]
  },
  {
   "cell_type": "code",
   "execution_count": 3,
   "metadata": {
    "ExecuteTime": {
     "end_time": "2018-12-03T03:07:38.121694Z",
     "start_time": "2018-12-03T03:07:38.072142Z"
    }
   },
   "outputs": [
    {
     "data": {
      "text/plain": [
       "['Hi.\\t嗨。',\n",
       " 'Hi.\\t你好。',\n",
       " 'Run.\\t你用跑的。',\n",
       " 'Wait!\\t等等！',\n",
       " 'Hello!\\t你好。',\n",
       " 'I try.\\t让我来。',\n",
       " 'I won!\\t我赢了。',\n",
       " 'Oh no!\\t不会吧。',\n",
       " 'Cheers!\\t乾杯!',\n",
       " 'He ran.\\t他跑了。',\n",
       " 'Hop in.\\t跳进来。',\n",
       " 'I lost.\\t我迷失了。',\n",
       " 'I quit.\\t我退出。',\n",
       " \"I'm OK.\\t我沒事。\",\n",
       " 'Listen.\\t听着。',\n",
       " 'No way!\\t不可能！',\n",
       " 'No way!\\t没门！',\n",
       " 'Really?\\t你确定？',\n",
       " 'Try it.\\t试试吧。',\n",
       " 'We try.\\t我们来试试。']"
      ]
     },
     "execution_count": 3,
     "metadata": {},
     "output_type": "execute_result"
    }
   ],
   "source": [
    "input_texts = []\n",
    "target_texts = []\n",
    "input_characters = set()\n",
    "target_characters = set()\n",
    "\n",
    "with open(data_path, 'r', encoding='utf-8') as f:\n",
    "    lines = f.read().split('\\n')\n",
    "# 显示部分数据\n",
    "lines[:20]\n"
   ]
  },
  {
   "cell_type": "code",
   "execution_count": 4,
   "metadata": {
    "ExecuteTime": {
     "end_time": "2018-12-03T03:07:38.160153Z",
     "start_time": "2018-12-03T03:07:38.125015Z"
    }
   },
   "outputs": [
    {
     "name": "stdout",
     "output_type": "stream",
     "text": [
      "Nunmber of samples: 10000\n",
      "Number of unique input tokens: 73\n",
      "Number of unique output tokens: 2622\n",
      "Max sequence length of input: 30\n",
      "Max sequence length of outputs: 22\n"
     ]
    }
   ],
   "source": [
    "for line in lines[: min(num_samples, len(lines) - 1)]:\n",
    "    # 分割输入序列和目标序列\n",
    "    input_text, target_text = line.split('\\t')\n",
    "\n",
    "    # 用'tab'作为 一个序列的开始字符\n",
    "    # 用 '\\n' 作为 序列的结束字符\n",
    "    target_text = '\\t' + target_text + '\\n'\n",
    "\n",
    "    input_texts.append(input_text)\n",
    "    target_texts.append(target_text)\n",
    "\n",
    "    # 计算 input_text 中的 tokens\n",
    "    for char in input_text:\n",
    "        if char not in input_characters:\n",
    "            input_characters.add(char)\n",
    "\n",
    "    # 计算 target_text 中的 tokens\n",
    "    for char in target_text:\n",
    "        if char not in target_characters:\n",
    "            target_characters.add(char)\n",
    "\n",
    "input_characters = sorted(list(input_characters))\n",
    "target_characters = sorted(list(target_characters))\n",
    "num_encoder_tokens = len(input_characters)\n",
    "num_decoder_tokens = len(target_characters)\n",
    "max_encoder_seq_length = max([ len(txt) for txt in input_texts])\n",
    "max_decoder_seq_length = max([ len(txt) for txt in target_texts])\n",
    "\n",
    "print('Nunmber of samples:', len(input_texts))\n",
    "print('Number of unique input tokens:', num_encoder_tokens)\n",
    "print('Number of unique output tokens:', num_decoder_tokens)\n",
    "print('Max sequence length of input:', max_encoder_seq_length)\n",
    "print('Max sequence length of outputs:', max_decoder_seq_length)\n"
   ]
  },
  {
   "cell_type": "code",
   "execution_count": 5,
   "metadata": {
    "ExecuteTime": {
     "end_time": "2018-12-03T03:07:38.167497Z",
     "start_time": "2018-12-03T03:07:38.162998Z"
    }
   },
   "outputs": [],
   "source": [
    "# 建立 字符->数字 字典，用于字符的向量化\n",
    "input_token_index = dict( [(char, i)for i, char in enumerate(input_characters)] )\n",
    "target_token_index = dict( [(char, i) for i, char in enumerate(target_characters)] )\n"
   ]
  },
  {
   "cell_type": "code",
   "execution_count": 6,
   "metadata": {
    "ExecuteTime": {
     "end_time": "2018-12-03T03:07:38.491168Z",
     "start_time": "2018-12-03T03:07:38.168804Z"
    }
   },
   "outputs": [],
   "source": [
    "# 创建数组 \n",
    "encoder_input_data = np.zeros((len(input_texts), max_encoder_seq_length, num_encoder_tokens), dtype=np.float32)\n",
    "decoder_input_data = np.zeros((len(input_texts), max_decoder_seq_length, num_decoder_tokens), dtype=np.float32)\n",
    "decoder_target_data = np.zeros((len(input_texts), max_decoder_seq_length, num_decoder_tokens), dtype=np.float32)\n",
    "\n",
    "# 填充数据, 对每一个字符做one-hot\n",
    "for i, (input_text, target_text) in enumerate(zip(input_texts, target_texts)):\n",
    "    # 对编码器的输入序列做one-hot\n",
    "    for t, char in enumerate(input_text):\n",
    "        encoder_input_data[i, t, input_token_index[char]] = 1.0\n",
    "\n",
    "    # 对解码器的输入与输出做序列做one-hot\n",
    "    for t, char in enumerate(target_text):\n",
    "        decoder_input_data[i, t, target_token_index[char]] = 1.0\n",
    "\n",
    "        if t > 0:\n",
    "            # decoder_target_data 不包含开始字符，并且比decoder_input_data提前一步\n",
    "            decoder_target_data[i, t-1, target_token_index[char]] = 1.0\n"
   ]
  },
  {
   "cell_type": "code",
   "execution_count": 7,
   "metadata": {
    "ExecuteTime": {
     "end_time": "2018-12-03T03:07:38.753791Z",
     "start_time": "2018-12-03T03:07:38.492892Z"
    }
   },
   "outputs": [],
   "source": [
    "# 定义编码器的输入\n",
    "# encoder_inputs (None, num_encoder_tokens), None表示可以处理任意长度的序列\n",
    "encoder_inputs = Input(shape=(None, num_encoder_tokens))\n",
    "\n",
    "# 编码器，要求其返回状态\n",
    "encoder = LSTM(latent_dim, return_state=True)\n",
    "\n",
    "# 调用编码器，得到编码器的输出（输入其实不需要），以及状态信息 state_h 和 state_c\n",
    "encoder_outpus, state_h, state_c = encoder(encoder_inputs)\n",
    "\n",
    "# 丢弃encoder_outputs, 我们只需要编码器的状态\n",
    "encoder_state = [state_h, state_c]\n"
   ]
  },
  {
   "cell_type": "code",
   "execution_count": 8,
   "metadata": {
    "ExecuteTime": {
     "end_time": "2018-12-03T03:07:38.913825Z",
     "start_time": "2018-12-03T03:07:38.755127Z"
    }
   },
   "outputs": [],
   "source": [
    "# 定义解码器的输入\n",
    "# 同样的，None表示可以处理任意长度的序列\n",
    "decoder_inputs = Input(shape=(None, num_decoder_tokens))\n",
    "\n",
    "# 接下来建立解码器，解码器将返回整个输出序列\n",
    "# 并且返回其中间状态，中间状态在训练阶段不会用到，但是在推理阶段将是有用的\n",
    "decoder_lstm = LSTM(latent_dim, return_sequences=True, return_state=True)\n",
    "\n",
    "# 将编码器输出的状态作为初始解码器的初始状态\n",
    "decoder_outputs, _, _ = decoder_lstm(decoder_inputs, initial_state=encoder_state)\n",
    "\n",
    "# 添加全连接层\n",
    "decoder_dense = Dense(num_decoder_tokens, activation='softmax')\n",
    "decoder_outputs = decoder_dense(decoder_outputs)\n"
   ]
  },
  {
   "cell_type": "code",
   "execution_count": 9,
   "metadata": {
    "ExecuteTime": {
     "end_time": "2018-12-03T03:13:54.195998Z",
     "start_time": "2018-12-03T03:07:38.915200Z"
    }
   },
   "outputs": [
    {
     "name": "stdout",
     "output_type": "stream",
     "text": [
      "Train on 9000 samples, validate on 1000 samples\n",
      "Epoch 1/100\n",
      "9000/9000 [==============================] - 16s 2ms/step - loss: 2.0728 - val_loss: 2.5237\n",
      "Epoch 2/100\n",
      "9000/9000 [==============================] - 12s 1ms/step - loss: 1.9307 - val_loss: 2.3734\n",
      "Epoch 3/100\n",
      "9000/9000 [==============================] - 12s 1ms/step - loss: 1.8175 - val_loss: 2.2993\n",
      "Epoch 4/100\n",
      "9000/9000 [==============================] - 11s 1ms/step - loss: 1.7277 - val_loss: 2.2457\n",
      "Epoch 5/100\n",
      "9000/9000 [==============================] - 12s 1ms/step - loss: 1.6526 - val_loss: 2.1563\n",
      "Epoch 6/100\n",
      "9000/9000 [==============================] - 11s 1ms/step - loss: 1.5860 - val_loss: 2.0866\n",
      "Epoch 7/100\n",
      "9000/9000 [==============================] - 12s 1ms/step - loss: 1.5236 - val_loss: 2.0369\n",
      "Epoch 8/100\n",
      "9000/9000 [==============================] - 11s 1ms/step - loss: 1.4581 - val_loss: 1.9714\n",
      "Epoch 9/100\n",
      "9000/9000 [==============================] - 12s 1ms/step - loss: 1.3971 - val_loss: 1.9437\n",
      "Epoch 10/100\n",
      "9000/9000 [==============================] - 11s 1ms/step - loss: 1.3445 - val_loss: 1.8975\n",
      "Epoch 11/100\n",
      "9000/9000 [==============================] - 12s 1ms/step - loss: 1.2974 - val_loss: 1.8775\n",
      "Epoch 12/100\n",
      "9000/9000 [==============================] - 11s 1ms/step - loss: 1.2557 - val_loss: 1.8609\n",
      "Epoch 13/100\n",
      "9000/9000 [==============================] - 12s 1ms/step - loss: 1.2161 - val_loss: 1.8279\n",
      "Epoch 14/100\n",
      "9000/9000 [==============================] - 11s 1ms/step - loss: 1.1789 - val_loss: 1.8125\n",
      "Epoch 15/100\n",
      "9000/9000 [==============================] - 12s 1ms/step - loss: 1.1459 - val_loss: 1.8175\n",
      "Epoch 16/100\n",
      "9000/9000 [==============================] - 12s 1ms/step - loss: 1.1132 - val_loss: 1.7977\n",
      "Epoch 17/100\n",
      "9000/9000 [==============================] - 12s 1ms/step - loss: 1.0813 - val_loss: 1.7814\n",
      "Epoch 18/100\n",
      "9000/9000 [==============================] - 11s 1ms/step - loss: 1.0518 - val_loss: 1.7795\n",
      "Epoch 19/100\n",
      "9000/9000 [==============================] - 12s 1ms/step - loss: 1.0224 - val_loss: 1.7694\n",
      "Epoch 20/100\n",
      "9000/9000 [==============================] - 11s 1ms/step - loss: 0.9929 - val_loss: 1.7586\n",
      "Epoch 21/100\n",
      "9000/9000 [==============================] - 12s 1ms/step - loss: 0.9660 - val_loss: 1.7519\n",
      "Epoch 22/100\n",
      "9000/9000 [==============================] - 11s 1ms/step - loss: 0.9395 - val_loss: 1.7518\n",
      "Epoch 23/100\n",
      "9000/9000 [==============================] - 12s 1ms/step - loss: 0.9132 - val_loss: 1.7548\n",
      "Epoch 24/100\n",
      "9000/9000 [==============================] - 12s 1ms/step - loss: 0.8875 - val_loss: 1.7469\n",
      "Epoch 25/100\n",
      "9000/9000 [==============================] - 12s 1ms/step - loss: 0.8624 - val_loss: 1.7459\n",
      "Epoch 26/100\n",
      "9000/9000 [==============================] - 11s 1ms/step - loss: 0.8384 - val_loss: 1.7459\n",
      "Epoch 27/100\n",
      "9000/9000 [==============================] - 12s 1ms/step - loss: 0.8147 - val_loss: 1.7458\n",
      "Epoch 28/100\n",
      "9000/9000 [==============================] - 12s 1ms/step - loss: 0.7912 - val_loss: 1.7499\n",
      "Epoch 29/100\n",
      "9000/9000 [==============================] - 12s 1ms/step - loss: 0.7687 - val_loss: 1.7573\n",
      "Epoch 30/100\n",
      "9000/9000 [==============================] - 12s 1ms/step - loss: 0.7468 - val_loss: 1.7615\n",
      "Epoch 31/100\n",
      "9000/9000 [==============================] - 12s 1ms/step - loss: 0.7251 - val_loss: 1.7576\n",
      "Epoch 32/100\n",
      "9000/9000 [==============================] - 11s 1ms/step - loss: 0.7038 - val_loss: 1.7735\n"
     ]
    },
    {
     "data": {
      "text/plain": [
       "<keras.callbacks.History at 0x7f09f1dfb208>"
      ]
     },
     "execution_count": 9,
     "metadata": {},
     "output_type": "execute_result"
    }
   ],
   "source": [
    "# 定义整个模型\n",
    "model = Model([encoder_inputs, decoder_inputs], decoder_outputs)\n",
    "\n",
    "# 定义回调函数\n",
    "callback_list = [callbacks.EarlyStopping(patience=5)]\n",
    "# 编译模型\n",
    "model.compile(optimizer='rmsprop', loss='categorical_crossentropy')\n",
    "\n",
    "# 训练\n",
    "model.fit([encoder_input_data, decoder_input_data], decoder_target_data,\n",
    "          batch_size=batch_size,\n",
    "          epochs = epochs,\n",
    "          validation_split=0.1,\n",
    "          callbacks=callback_list)\n"
   ]
  },
  {
   "cell_type": "code",
   "execution_count": 10,
   "metadata": {
    "ExecuteTime": {
     "end_time": "2018-12-03T03:13:54.302494Z",
     "start_time": "2018-12-03T03:13:54.199185Z"
    }
   },
   "outputs": [],
   "source": [
    "# 定义 sampling 模型\n",
    "# 定义 encoder 模型，得到输出encoder_states\n",
    "encoder_model = Model(encoder_inputs, encoder_state)\n",
    "\n",
    "decoder_state_input_h = Input(shape=(latent_dim,))\n",
    "decoder_state_input_c = Input(shape=(latent_dim,))\n",
    "decoder_states_inputs = [decoder_state_input_h, decoder_state_input_c]\n",
    "\n",
    "# 得到解码器的输出以及中间状态\n",
    "decoder_outputs, state_h, state_c = decoder_lstm(decoder_inputs, initial_state=decoder_states_inputs)\n",
    "decoder_states = [state_h, state_c]\n",
    "decoder_outputs = decoder_dense(decoder_outputs)\n",
    "\n",
    "decoder_model = Model([decoder_inputs] + decoder_states_inputs, [decoder_outputs]+decoder_states)\n"
   ]
  },
  {
   "cell_type": "code",
   "execution_count": 11,
   "metadata": {
    "ExecuteTime": {
     "end_time": "2018-12-03T03:13:54.306665Z",
     "start_time": "2018-12-03T03:13:54.303716Z"
    }
   },
   "outputs": [],
   "source": [
    "# 建立 数字->字符 的字典，用于恢复\n",
    "reverse_input_char_index = dict([(i, char) for char, i in input_token_index.items()])\n",
    "reverse_target_char_index = dict([(i, char) for char, i in target_token_index.items()])\n"
   ]
  },
  {
   "cell_type": "code",
   "execution_count": 12,
   "metadata": {
    "ExecuteTime": {
     "end_time": "2018-12-03T03:13:54.317073Z",
     "start_time": "2018-12-03T03:13:54.307870Z"
    }
   },
   "outputs": [],
   "source": [
    "def decode_sequence(input_seq):\n",
    "    # 将输入序列进行编码\n",
    "    states_value = encoder_model.predict(input_seq)\n",
    "\n",
    "    # 生成一个size=1的空序列\n",
    "    target_seq = np.zeros((1, 1, num_decoder_tokens))\n",
    "    # 将这个空序列的内容设置为开始字符\n",
    "    target_seq[0, 0, target_token_index['\\t']] = 1.\n",
    "\n",
    "    # 进行字符恢复\n",
    "    # 简单起见，假设batch_size = 1\n",
    "    stop_condition = False\n",
    "    decoded_sentence = ''\n",
    "\n",
    "    while not stop_condition:\n",
    "        output_tokens, h, c = decoder_model.predict([target_seq] + states_value)\n",
    "\n",
    "        # sample a token\n",
    "        sampled_token_index = np.argmax(output_tokens[0, -1, :])\n",
    "        sampled_char = reverse_target_char_index[sampled_token_index]\n",
    "        decoded_sentence += sampled_char\n",
    "\n",
    "        # 退出条件：生成 \\n 或者 超过最大序列长度\n",
    "        if sampled_char == '\\n' or len(decoded_sentence) > max_decoder_seq_length :\n",
    "            stop_condition = True\n",
    "\n",
    "        # 更新target_seq\n",
    "        target_seq = np.zeros((1, 1, num_decoder_tokens))\n",
    "        target_seq[0, 0, sampled_token_index] = 1.\n",
    "\n",
    "        # 更新中间状态\n",
    "        states_value = [h, c]\n",
    "\n",
    "    return decoded_sentence\n"
   ]
  },
  {
   "cell_type": "code",
   "execution_count": 27,
   "metadata": {
    "ExecuteTime": {
     "end_time": "2018-12-03T03:17:26.577462Z",
     "start_time": "2018-12-03T03:17:26.566204Z"
    }
   },
   "outputs": [],
   "source": [
    "\"每一次预测的时候把之前预测的值全部带入    decode_sequence_new\"\n",
    "\"每一次预测的时候把之前一次预测的值带入，并更新隐状态    decode_sequence\n",
    "\"\"\"\n",
    "以上两种方法的输出完全相同\n",
    "\"\"\"\n",
    "\n",
    "def decode_sequence_new(input_seq):\n",
    "    # 将输入序列进行编码\n",
    "    states_value = encoder_model.predict(input_seq)\n",
    "\n",
    "    # 生成一个size=1的空序列\n",
    "    target_seq = np.zeros((1, 1, num_decoder_tokens))\n",
    "    # 将这个空序列的内容设置为开始字符\n",
    "    target_seq[0, 0, target_token_index['\\t']] = 1.\n",
    "\n",
    "    # 进行字符恢复\n",
    "    # 简单起见，假设batch_size = 1\n",
    "    stop_condition = False\n",
    "    decoded_sentence = ''\n",
    "\n",
    "#     while not stop_condition:\n",
    "#         output_tokens, h, c = decoder_model.predict([target_seq] + states_value)\n",
    "\n",
    "#         # sample a token\n",
    "#         sampled_token_index = np.argmax(output_tokens[0, -1, :])\n",
    "#         sampled_char = reverse_target_char_index[sampled_token_index]\n",
    "#         decoded_sentence += sampled_char\n",
    "\n",
    "#         # 退出条件：生成 \\n 或者 超过最大序列长度\n",
    "#         if sampled_char == '\\n' or len(decoded_sentence) > max_decoder_seq_length :\n",
    "#             stop_condition = True\n",
    "\n",
    "#         # 更新target_seq\n",
    "#         target_seq = np.zeros((1, 1, num_decoder_tokens))\n",
    "#         target_seq[0, 0, sampled_token_index] = 1.\n",
    "\n",
    "#         # 更新中间状态\n",
    "#         states_value = [h, c]\n",
    "    while not stop_condition:\n",
    "        output_tokens, _, _ = decoder_model.predict([target_seq] + states_value)\n",
    "        sampled_token_index = np.argmax(output_tokens[0, -1, :])\n",
    "        sampled_char = reverse_target_char_index[sampled_token_index]\n",
    "        decoded_sentence += sampled_char\n",
    "        \n",
    "        #         # 退出条件：生成 \\n 或者 超过最大序列长度\n",
    "        if sampled_char == '\\n' or len(decoded_sentence) > max_decoder_seq_length :\n",
    "            stop_condition = True\n",
    "\n",
    "        # 更新target_seq\n",
    "        target_seq = np.zeros((1, 1+len(decoded_sentence), num_decoder_tokens))\n",
    "        target_seq[0, 0, target_token_index['\\t']] = 1.\n",
    "        for j in range(1,target_seq.shape[1]):\n",
    "            cur_char = decoded_sentence[j-1]\n",
    "            \n",
    "            target_seq[0,j,target_token_index[cur_char]] = 1\n",
    "        \n",
    "\n",
    "    return decoded_sentence\n"
   ]
  },
  {
   "cell_type": "code",
   "execution_count": 29,
   "metadata": {
    "ExecuteTime": {
     "end_time": "2018-12-03T03:17:45.236066Z",
     "start_time": "2018-12-03T03:17:42.225559Z"
    }
   },
   "outputs": [
    {
     "name": "stdout",
     "output_type": "stream",
     "text": [
      "-\n",
      "Input sentence: I can swim well.\n",
      "Decoded sentence: 我不能在这里。\n",
      "\n",
      "-\n",
      "Input sentence: I can't see you.\n",
      "Decoded sentence: 我不能幫忙。\n",
      "\n",
      "-\n",
      "Input sentence: I can't undo it.\n",
      "Decoded sentence: 我不能忍受。\n",
      "\n",
      "-\n",
      "Input sentence: I don't want it.\n",
      "Decoded sentence: 我不想要那個。\n",
      "\n",
      "-\n",
      "Input sentence: I feel relieved.\n",
      "Decoded sentence: 我有一個好見。\n",
      "\n",
      "-\n",
      "Input sentence: I get up at six.\n",
      "Decoded sentence: 我有一個好主意。\n",
      "\n",
      "-\n",
      "Input sentence: I had no choice.\n",
      "Decoded sentence: 我有一个好。\n",
      "\n",
      "-\n",
      "Input sentence: I hate studying.\n",
      "Decoded sentence: 我有一个好。\n",
      "\n",
      "-\n",
      "Input sentence: I have brothers.\n",
      "Decoded sentence: 我有一個意見。\n",
      "\n",
      "-\n",
      "Input sentence: I have ten pens.\n",
      "Decoded sentence: 我有一個意見。\n",
      "\n",
      "-\n",
      "Input sentence: I have to hurry!\n",
      "Decoded sentence: 我可以幫忙嗎？\n",
      "\n",
      "-\n",
      "Input sentence: I have two cats.\n",
      "Decoded sentence: 我有一個意見。\n",
      "\n",
      "-\n",
      "Input sentence: I have two sons.\n",
      "Decoded sentence: 我有一個好。\n",
      "\n",
      "-\n",
      "Input sentence: I just threw up.\n",
      "Decoded sentence: 我不能在這裡。\n",
      "\n",
      "-\n",
      "Input sentence: I lent him a CD.\n",
      "Decoded sentence: 我想要去。\n",
      "\n",
      "-\n",
      "Input sentence: I like Tom, too.\n",
      "Decoded sentence: 我喜欢汤姆。\n",
      "\n",
      "-\n",
      "Input sentence: I like eggplant.\n",
      "Decoded sentence: 我喜歡運。\n",
      "\n",
      "-\n",
      "Input sentence: I like football.\n",
      "Decoded sentence: 我喜欢跑步。\n",
      "\n",
      "-\n",
      "Input sentence: I like potatoes.\n",
      "Decoded sentence: 我喜欢跑步。\n",
      "\n",
      "-\n",
      "Input sentence: I like the cold.\n",
      "Decoded sentence: 我喜欢这个狗。\n",
      "\n",
      "-\n",
      "Input sentence: I like this dog.\n",
      "Decoded sentence: 我喜欢这个。\n",
      "\n",
      "-\n",
      "Input sentence: I like your car.\n",
      "Decoded sentence: 我喜欢你的车。\n",
      "\n",
      "-\n",
      "Input sentence: I lived in Rome.\n",
      "Decoded sentence: 我愛他。\n",
      "\n",
      "-\n",
      "Input sentence: I love this car.\n",
      "Decoded sentence: 我愛這裡。\n",
      "\n",
      "-\n",
      "Input sentence: I might say yes.\n",
      "Decoded sentence: 我看見了他跑步。\n",
      "\n",
      "-\n",
      "Input sentence: I must help her.\n",
      "Decoded sentence: 我有一個意見。\n",
      "\n",
      "-\n",
      "Input sentence: I need a friend.\n",
      "Decoded sentence: 我需要一個好好。\n",
      "\n",
      "-\n",
      "Input sentence: I need evidence.\n",
      "Decoded sentence: 我想要一個好。\n",
      "\n",
      "-\n",
      "Input sentence: I need you here.\n",
      "Decoded sentence: 我需要你們的幫助。\n",
      "\n",
      "-\n",
      "Input sentence: I paid the bill.\n",
      "Decoded sentence: 我有一个好的手。\n",
      "\n",
      "-\n",
      "Input sentence: I played tennis.\n",
      "Decoded sentence: 我愛了。\n",
      "\n",
      "-\n",
      "Input sentence: I run every day.\n",
      "Decoded sentence: 我很忙。\n",
      "\n",
      "-\n",
      "Input sentence: I speak Swedish.\n",
      "Decoded sentence: 我看见了他。\n",
      "\n",
      "-\n",
      "Input sentence: I talked to her.\n",
      "Decoded sentence: 我喜欢这个狗。\n",
      "\n",
      "-\n",
      "Input sentence: I teach Chinese.\n",
      "Decoded sentence: 我看见他。\n",
      "\n",
      "-\n",
      "Input sentence: I think it's OK.\n",
      "Decoded sentence: 我想要一個。\n",
      "\n",
      "-\n",
      "Input sentence: I took a shower.\n",
      "Decoded sentence: 我看了他的手。\n",
      "\n",
      "-\n",
      "Input sentence: I want a guitar.\n",
      "Decoded sentence: 我想要一個。\n",
      "\n",
      "-\n",
      "Input sentence: I want that bag.\n",
      "Decoded sentence: 我想要一個。\n",
      "\n",
      "-\n",
      "Input sentence: I want to drive.\n",
      "Decoded sentence: 我想要一個。\n",
      "\n",
      "-\n",
      "Input sentence: I was surprised.\n",
      "Decoded sentence: 我有一個意見。\n",
      "\n",
      "-\n",
      "Input sentence: I wish you'd go.\n",
      "Decoded sentence: 我希望你可以來。\n",
      "\n",
      "-\n",
      "Input sentence: I woke up early.\n",
      "Decoded sentence: 我想要你。\n",
      "\n",
      "-\n",
      "Input sentence: I work too much.\n",
      "Decoded sentence: 我想要你。\n",
      "\n",
      "-\n",
      "Input sentence: I'll bring wine.\n",
      "Decoded sentence: 我會開車。\n",
      "\n",
      "-\n",
      "Input sentence: I'll never stop.\n",
      "Decoded sentence: 我會開車。\n",
      "\n",
      "-\n",
      "Input sentence: I'm a foreigner.\n",
      "Decoded sentence: 我是個好人。\n",
      "\n",
      "-\n",
      "Input sentence: I'm a night owl.\n",
      "Decoded sentence: 我是個好人。\n",
      "\n",
      "-\n",
      "Input sentence: I'm about ready.\n",
      "Decoded sentence: 我很好。\n",
      "\n",
      "-\n",
      "Input sentence: I'm always here.\n",
      "Decoded sentence: 我是個好人。\n",
      "\n",
      "-\n",
      "Input sentence: I'm daydreaming.\n",
      "Decoded sentence: 我是個好人。\n",
      "\n",
      "-\n",
      "Input sentence: I'm feeling fit.\n",
      "Decoded sentence: 我是個好人。\n",
      "\n",
      "-\n",
      "Input sentence: I'm left-handed.\n",
      "Decoded sentence: 我是個好的人。\n",
      "\n",
      "-\n",
      "Input sentence: I'm not serious.\n",
      "Decoded sentence: 我不是個意子。\n",
      "\n",
      "-\n",
      "Input sentence: I'm out of time.\n",
      "Decoded sentence: 我不是湯姆。\n",
      "\n",
      "-\n",
      "Input sentence: I'm pretty busy.\n",
      "Decoded sentence: 我很忙。\n",
      "\n",
      "-\n",
      "Input sentence: I'm really busy.\n",
      "Decoded sentence: 我很忙。\n",
      "\n",
      "-\n",
      "Input sentence: I'm really cold.\n",
      "Decoded sentence: 我很好。\n",
      "\n",
      "-\n",
      "Input sentence: I'm still angry.\n",
      "Decoded sentence: 我不是個意子。\n",
      "\n",
      "-\n",
      "Input sentence: I'm very hungry.\n",
      "Decoded sentence: 我很忙。\n",
      "\n",
      "-\n",
      "Input sentence: I'm very lonely.\n",
      "Decoded sentence: 我很好。\n",
      "\n",
      "-\n",
      "Input sentence: I've had enough.\n",
      "Decoded sentence: 我有一個好見。\n",
      "\n",
      "-\n",
      "Input sentence: I've had enough.\n",
      "Decoded sentence: 我有一個好見。\n",
      "\n",
      "-\n",
      "Input sentence: Is Tom Canadian?\n",
      "Decoded sentence: 汤姆是好的吗？\n",
      "\n",
      "-\n",
      "Input sentence: Is he breathing?\n",
      "Decoded sentence: 他是日本人嗎？\n",
      "\n",
      "-\n",
      "Input sentence: Is it all there?\n",
      "Decoded sentence: 那是我的吗？\n",
      "\n",
      "-\n",
      "Input sentence: Is it too salty?\n",
      "Decoded sentence: 那是你的書嗎？\n",
      "\n",
      "-\n",
      "Input sentence: Is she Japanese?\n",
      "Decoded sentence: 他是日本人吗？\n",
      "\n",
      "-\n",
      "Input sentence: Is this a river?\n",
      "Decoded sentence: 他是日本人吗？\n",
      "\n",
      "-\n",
      "Input sentence: Isn't that mine?\n",
      "Decoded sentence: 那是我的想法嗎？\n",
      "\n",
      "-\n",
      "Input sentence: It is up to you.\n",
      "Decoded sentence: 这是你的想。\n",
      "\n",
      "-\n",
      "Input sentence: It snowed a lot.\n",
      "Decoded sentence: 它不是我的錯。\n",
      "\n",
      "-\n",
      "Input sentence: It was terrible.\n",
      "Decoded sentence: 它是一個好的人。\n",
      "\n",
      "-\n",
      "Input sentence: It was very far.\n",
      "Decoded sentence: 它是我們的錯誤。\n",
      "\n",
      "-\n",
      "Input sentence: It'll be cloudy.\n",
      "Decoded sentence: 很快就要六點了。\n",
      "\n",
      "-\n",
      "Input sentence: It's a dead end.\n",
      "Decoded sentence: 这是一个好的女孩。\n",
      "\n",
      "-\n",
      "Input sentence: It's a new book.\n",
      "Decoded sentence: 它是我的錯。\n",
      "\n",
      "-\n",
      "Input sentence: It's a nice day.\n",
      "Decoded sentence: 它是我們的錯誤。\n",
      "\n",
      "-\n",
      "Input sentence: It's a surprise.\n",
      "Decoded sentence: 它是一個好的日日人。\n",
      "\n",
      "-\n",
      "Input sentence: It's almost six.\n",
      "Decoded sentence: 它是一個好的。\n",
      "\n",
      "-\n",
      "Input sentence: It's already 11.\n",
      "Decoded sentence: 它是我們的錯誤。\n",
      "\n",
      "-\n",
      "Input sentence: It's fine today.\n",
      "Decoded sentence: 它是我們的錯誤。\n",
      "\n",
      "-\n",
      "Input sentence: It's impossible.\n",
      "Decoded sentence: 这是真的。\n",
      "\n",
      "-\n",
      "Input sentence: It's lunch time.\n",
      "Decoded sentence: 它是我們的錯誤。\n",
      "\n",
      "-\n",
      "Input sentence: It's okay to go.\n",
      "Decoded sentence: 它是我們的錯誤。\n",
      "\n",
      "-\n",
      "Input sentence: It's over there.\n",
      "Decoded sentence: 它是一個好的人。\n",
      "\n",
      "-\n",
      "Input sentence: It's time to go.\n",
      "Decoded sentence: 它是我們的錯誤。\n",
      "\n",
      "-\n",
      "Input sentence: It's time to go.\n",
      "Decoded sentence: 它是我們的錯誤。\n",
      "\n",
      "-\n",
      "Input sentence: Jesus loves you.\n",
      "Decoded sentence: 再见！\n",
      "\n",
      "-\n",
      "Input sentence: Keep on smiling.\n",
      "Decoded sentence: 把它放在桌子上。\n",
      "\n",
      "-\n",
      "Input sentence: Keep on working.\n",
      "Decoded sentence: 把它放在桌子上。\n",
      "\n",
      "-\n",
      "Input sentence: Keep the change!\n",
      "Decoded sentence: 把手放在这儿。\n",
      "\n",
      "-\n",
      "Input sentence: Large, isn't it?\n",
      "Decoded sentence: 有人，我们不是么？\n",
      "\n",
      "-\n",
      "Input sentence: Lemons are sour.\n",
      "Decoded sentence: 把它放在我。\n",
      "\n",
      "-\n",
      "Input sentence: Let me go alone.\n",
      "Decoded sentence: 讓我看看你。\n",
      "\n",
      "-\n",
      "Input sentence: Let me see that.\n",
      "Decoded sentence: 讓我看看。\n",
      "\n",
      "-\n",
      "Input sentence: Let them decide.\n",
      "Decoded sentence: 讓我們看看電視。\n",
      "\n",
      "-\n",
      "Input sentence: Let's eat sushi.\n",
      "Decoded sentence: 讓我們開始吧。\n",
      "\n",
      "-\n",
      "Input sentence: Let's go by bus.\n",
      "Decoded sentence: 讓我們開始吧。\n",
      "\n",
      "-\n",
      "Input sentence: Let's not argue.\n",
      "Decoded sentence: 我们走吧。\n",
      "\n"
     ]
    }
   ],
   "source": [
    "# 检验成果的时候到了,从训练集中选取一些句子做测试\n",
    "# 效果还行（废话，从训练集里挑的数据）\n",
    "for seq_index in range(1000, 1100):\n",
    "    # batch_size = 1\n",
    "    input_seq = encoder_input_data[seq_index:seq_index+1]\n",
    "    decoded_sentence = decode_sequence(input_seq)\n",
    "\n",
    "    print('-')\n",
    "    print('Input sentence:', input_texts[seq_index])\n",
    "    print('Decoded sentence:', decoded_sentence)\n"
   ]
  },
  {
   "cell_type": "code",
   "execution_count": 30,
   "metadata": {
    "ExecuteTime": {
     "end_time": "2018-12-03T03:17:59.994386Z",
     "start_time": "2018-12-03T03:17:55.770720Z"
    }
   },
   "outputs": [
    {
     "name": "stdout",
     "output_type": "stream",
     "text": [
      "-\n",
      "Input sentence: I can swim well.\n",
      "Decoded sentence: 我不能在这里。\n",
      "\n",
      "-\n",
      "Input sentence: I can't see you.\n",
      "Decoded sentence: 我不能幫忙。\n",
      "\n",
      "-\n",
      "Input sentence: I can't undo it.\n",
      "Decoded sentence: 我不能忍受。\n",
      "\n",
      "-\n",
      "Input sentence: I don't want it.\n",
      "Decoded sentence: 我不想要那個。\n",
      "\n",
      "-\n",
      "Input sentence: I feel relieved.\n",
      "Decoded sentence: 我有一個好見。\n",
      "\n",
      "-\n",
      "Input sentence: I get up at six.\n",
      "Decoded sentence: 我有一個好主意。\n",
      "\n",
      "-\n",
      "Input sentence: I had no choice.\n",
      "Decoded sentence: 我有一个好。\n",
      "\n",
      "-\n",
      "Input sentence: I hate studying.\n",
      "Decoded sentence: 我有一个好。\n",
      "\n",
      "-\n",
      "Input sentence: I have brothers.\n",
      "Decoded sentence: 我有一個意見。\n",
      "\n",
      "-\n",
      "Input sentence: I have ten pens.\n",
      "Decoded sentence: 我有一個意見。\n",
      "\n",
      "-\n",
      "Input sentence: I have to hurry!\n",
      "Decoded sentence: 我可以幫忙嗎？\n",
      "\n",
      "-\n",
      "Input sentence: I have two cats.\n",
      "Decoded sentence: 我有一個意見。\n",
      "\n",
      "-\n",
      "Input sentence: I have two sons.\n",
      "Decoded sentence: 我有一個好。\n",
      "\n",
      "-\n",
      "Input sentence: I just threw up.\n",
      "Decoded sentence: 我不能在這裡。\n",
      "\n",
      "-\n",
      "Input sentence: I lent him a CD.\n",
      "Decoded sentence: 我想要去。\n",
      "\n",
      "-\n",
      "Input sentence: I like Tom, too.\n",
      "Decoded sentence: 我喜欢汤姆。\n",
      "\n",
      "-\n",
      "Input sentence: I like eggplant.\n",
      "Decoded sentence: 我喜歡運。\n",
      "\n",
      "-\n",
      "Input sentence: I like football.\n",
      "Decoded sentence: 我喜欢跑步。\n",
      "\n",
      "-\n",
      "Input sentence: I like potatoes.\n",
      "Decoded sentence: 我喜欢跑步。\n",
      "\n",
      "-\n",
      "Input sentence: I like the cold.\n",
      "Decoded sentence: 我喜欢这个狗。\n",
      "\n",
      "-\n",
      "Input sentence: I like this dog.\n",
      "Decoded sentence: 我喜欢这个。\n",
      "\n",
      "-\n",
      "Input sentence: I like your car.\n",
      "Decoded sentence: 我喜欢你的车。\n",
      "\n",
      "-\n",
      "Input sentence: I lived in Rome.\n",
      "Decoded sentence: 我愛他。\n",
      "\n",
      "-\n",
      "Input sentence: I love this car.\n",
      "Decoded sentence: 我愛這裡。\n",
      "\n",
      "-\n",
      "Input sentence: I might say yes.\n",
      "Decoded sentence: 我看見了他跑步。\n",
      "\n",
      "-\n",
      "Input sentence: I must help her.\n",
      "Decoded sentence: 我有一個意見。\n",
      "\n",
      "-\n",
      "Input sentence: I need a friend.\n",
      "Decoded sentence: 我需要一個好好。\n",
      "\n",
      "-\n",
      "Input sentence: I need evidence.\n",
      "Decoded sentence: 我想要一個好。\n",
      "\n",
      "-\n",
      "Input sentence: I need you here.\n",
      "Decoded sentence: 我需要你們的幫助。\n",
      "\n",
      "-\n",
      "Input sentence: I paid the bill.\n",
      "Decoded sentence: 我有一个好的手。\n",
      "\n",
      "-\n",
      "Input sentence: I played tennis.\n",
      "Decoded sentence: 我愛了。\n",
      "\n",
      "-\n",
      "Input sentence: I run every day.\n",
      "Decoded sentence: 我很忙。\n",
      "\n",
      "-\n",
      "Input sentence: I speak Swedish.\n",
      "Decoded sentence: 我看见了他。\n",
      "\n",
      "-\n",
      "Input sentence: I talked to her.\n",
      "Decoded sentence: 我喜欢这个狗。\n",
      "\n",
      "-\n",
      "Input sentence: I teach Chinese.\n",
      "Decoded sentence: 我看见他。\n",
      "\n",
      "-\n",
      "Input sentence: I think it's OK.\n",
      "Decoded sentence: 我想要一個。\n",
      "\n",
      "-\n",
      "Input sentence: I took a shower.\n",
      "Decoded sentence: 我看了他的手。\n",
      "\n",
      "-\n",
      "Input sentence: I want a guitar.\n",
      "Decoded sentence: 我想要一個。\n",
      "\n",
      "-\n",
      "Input sentence: I want that bag.\n",
      "Decoded sentence: 我想要一個。\n",
      "\n",
      "-\n",
      "Input sentence: I want to drive.\n",
      "Decoded sentence: 我想要一個。\n",
      "\n",
      "-\n",
      "Input sentence: I was surprised.\n",
      "Decoded sentence: 我有一個意見。\n",
      "\n",
      "-\n",
      "Input sentence: I wish you'd go.\n",
      "Decoded sentence: 我希望你可以來。\n",
      "\n",
      "-\n",
      "Input sentence: I woke up early.\n",
      "Decoded sentence: 我想要你。\n",
      "\n",
      "-\n",
      "Input sentence: I work too much.\n",
      "Decoded sentence: 我想要你。\n",
      "\n",
      "-\n",
      "Input sentence: I'll bring wine.\n",
      "Decoded sentence: 我會開車。\n",
      "\n",
      "-\n",
      "Input sentence: I'll never stop.\n",
      "Decoded sentence: 我會開車。\n",
      "\n",
      "-\n",
      "Input sentence: I'm a foreigner.\n",
      "Decoded sentence: 我是個好人。\n",
      "\n",
      "-\n",
      "Input sentence: I'm a night owl.\n",
      "Decoded sentence: 我是個好人。\n",
      "\n",
      "-\n",
      "Input sentence: I'm about ready.\n",
      "Decoded sentence: 我很好。\n",
      "\n",
      "-\n",
      "Input sentence: I'm always here.\n",
      "Decoded sentence: 我是個好人。\n",
      "\n",
      "-\n",
      "Input sentence: I'm daydreaming.\n",
      "Decoded sentence: 我是個好人。\n",
      "\n",
      "-\n",
      "Input sentence: I'm feeling fit.\n",
      "Decoded sentence: 我是個好人。\n",
      "\n",
      "-\n",
      "Input sentence: I'm left-handed.\n",
      "Decoded sentence: 我是個好的人。\n",
      "\n",
      "-\n",
      "Input sentence: I'm not serious.\n",
      "Decoded sentence: 我不是個意子。\n",
      "\n",
      "-\n",
      "Input sentence: I'm out of time.\n",
      "Decoded sentence: 我不是湯姆。\n",
      "\n",
      "-\n",
      "Input sentence: I'm pretty busy.\n",
      "Decoded sentence: 我很忙。\n",
      "\n",
      "-\n",
      "Input sentence: I'm really busy.\n",
      "Decoded sentence: 我很忙。\n",
      "\n",
      "-\n",
      "Input sentence: I'm really cold.\n",
      "Decoded sentence: 我很好。\n",
      "\n",
      "-\n",
      "Input sentence: I'm still angry.\n",
      "Decoded sentence: 我不是個意子。\n",
      "\n",
      "-\n",
      "Input sentence: I'm very hungry.\n",
      "Decoded sentence: 我很忙。\n",
      "\n",
      "-\n",
      "Input sentence: I'm very lonely.\n",
      "Decoded sentence: 我很好。\n",
      "\n",
      "-\n",
      "Input sentence: I've had enough.\n",
      "Decoded sentence: 我有一個好見。\n",
      "\n",
      "-\n",
      "Input sentence: I've had enough.\n",
      "Decoded sentence: 我有一個好見。\n",
      "\n",
      "-\n",
      "Input sentence: Is Tom Canadian?\n",
      "Decoded sentence: 汤姆是好的吗？\n",
      "\n",
      "-\n",
      "Input sentence: Is he breathing?\n",
      "Decoded sentence: 他是日本人嗎？\n",
      "\n",
      "-\n",
      "Input sentence: Is it all there?\n",
      "Decoded sentence: 那是我的吗？\n",
      "\n",
      "-\n",
      "Input sentence: Is it too salty?\n",
      "Decoded sentence: 那是你的書嗎？\n",
      "\n",
      "-\n",
      "Input sentence: Is she Japanese?\n",
      "Decoded sentence: 他是日本人吗？\n",
      "\n",
      "-\n",
      "Input sentence: Is this a river?\n",
      "Decoded sentence: 他是日本人吗？\n",
      "\n",
      "-\n",
      "Input sentence: Isn't that mine?\n",
      "Decoded sentence: 那是我的想法嗎？\n",
      "\n",
      "-\n",
      "Input sentence: It is up to you.\n",
      "Decoded sentence: 这是你的想。\n",
      "\n",
      "-\n",
      "Input sentence: It snowed a lot.\n",
      "Decoded sentence: 它不是我的錯。\n",
      "\n",
      "-\n",
      "Input sentence: It was terrible.\n",
      "Decoded sentence: 它是一個好的人。\n",
      "\n",
      "-\n",
      "Input sentence: It was very far.\n",
      "Decoded sentence: 它是我們的錯誤。\n",
      "\n",
      "-\n",
      "Input sentence: It'll be cloudy.\n",
      "Decoded sentence: 很快就要六點了。\n",
      "\n",
      "-\n",
      "Input sentence: It's a dead end.\n",
      "Decoded sentence: 这是一个好的女孩。\n",
      "\n",
      "-\n",
      "Input sentence: It's a new book.\n",
      "Decoded sentence: 它是我的錯。\n",
      "\n",
      "-\n",
      "Input sentence: It's a nice day.\n",
      "Decoded sentence: 它是我們的錯誤。\n",
      "\n",
      "-\n",
      "Input sentence: It's a surprise.\n",
      "Decoded sentence: 它是一個好的日日人。\n",
      "\n",
      "-\n",
      "Input sentence: It's almost six.\n",
      "Decoded sentence: 它是一個好的。\n",
      "\n",
      "-\n",
      "Input sentence: It's already 11.\n",
      "Decoded sentence: 它是我們的錯誤。\n",
      "\n",
      "-\n",
      "Input sentence: It's fine today.\n",
      "Decoded sentence: 它是我們的錯誤。\n",
      "\n",
      "-\n",
      "Input sentence: It's impossible.\n",
      "Decoded sentence: 这是真的。\n",
      "\n",
      "-\n",
      "Input sentence: It's lunch time.\n",
      "Decoded sentence: 它是我們的錯誤。\n",
      "\n",
      "-\n",
      "Input sentence: It's okay to go.\n",
      "Decoded sentence: 它是我們的錯誤。\n",
      "\n",
      "-\n",
      "Input sentence: It's over there.\n",
      "Decoded sentence: 它是一個好的人。\n",
      "\n",
      "-\n",
      "Input sentence: It's time to go.\n",
      "Decoded sentence: 它是我們的錯誤。\n",
      "\n",
      "-\n",
      "Input sentence: It's time to go.\n",
      "Decoded sentence: 它是我們的錯誤。\n",
      "\n",
      "-\n",
      "Input sentence: Jesus loves you.\n",
      "Decoded sentence: 再见！\n",
      "\n",
      "-\n",
      "Input sentence: Keep on smiling.\n",
      "Decoded sentence: 把它放在桌子上。\n",
      "\n",
      "-\n",
      "Input sentence: Keep on working.\n",
      "Decoded sentence: 把它放在桌子上。\n",
      "\n",
      "-\n",
      "Input sentence: Keep the change!\n",
      "Decoded sentence: 把手放在这儿。\n",
      "\n",
      "-\n",
      "Input sentence: Large, isn't it?\n",
      "Decoded sentence: 有人，我们不是么？\n",
      "\n",
      "-\n",
      "Input sentence: Lemons are sour.\n",
      "Decoded sentence: 把它放在我。\n",
      "\n",
      "-\n",
      "Input sentence: Let me go alone.\n",
      "Decoded sentence: 讓我看看你。\n",
      "\n",
      "-\n",
      "Input sentence: Let me see that.\n",
      "Decoded sentence: 讓我看看。\n",
      "\n",
      "-\n",
      "Input sentence: Let them decide.\n",
      "Decoded sentence: 讓我們看看電視。\n",
      "\n",
      "-\n",
      "Input sentence: Let's eat sushi.\n",
      "Decoded sentence: 讓我們開始吧。\n",
      "\n",
      "-\n",
      "Input sentence: Let's go by bus.\n",
      "Decoded sentence: 讓我們開始吧。\n",
      "\n",
      "-\n",
      "Input sentence: Let's not argue.\n",
      "Decoded sentence: 我们走吧。\n",
      "\n"
     ]
    }
   ],
   "source": [
    "# 检验成果的时候到了,从训练集中选取一些句子做测试\n",
    "# 效果还行（废话，从训练集里挑的数据）\n",
    "for seq_index in range(1000, 1100):\n",
    "    # batch_size = 1\n",
    "    input_seq = encoder_input_data[seq_index:seq_index+1]\n",
    "    decoded_sentence = decode_sequence_new(input_seq)\n",
    "\n",
    "    print('-')\n",
    "    print('Input sentence:', input_texts[seq_index])\n",
    "    print('Decoded sentence:', decoded_sentence)"
   ]
  },
  {
   "cell_type": "markdown",
   "metadata": {},
   "source": [
    "# Analysis decoder"
   ]
  },
  {
   "cell_type": "code",
   "execution_count": 14,
   "metadata": {
    "ExecuteTime": {
     "end_time": "2018-12-03T03:13:57.290405Z",
     "start_time": "2018-12-03T03:13:57.283910Z"
    }
   },
   "outputs": [
    {
     "name": "stdout",
     "output_type": "stream",
     "text": [
      "__________________________________________________________________________________________________\n",
      "Layer (type)                    Output Shape         Param #     Connected to                     \n",
      "==================================================================================================\n",
      "input_2 (InputLayer)            (None, None, 2622)   0                                            \n",
      "__________________________________________________________________________________________________\n",
      "input_3 (InputLayer)            (None, 256)          0                                            \n",
      "__________________________________________________________________________________________________\n",
      "input_4 (InputLayer)            (None, 256)          0                                            \n",
      "__________________________________________________________________________________________________\n",
      "lstm_2 (LSTM)                   [(None, None, 256),  2948096     input_2[0][0]                    \n",
      "                                                                 input_3[0][0]                    \n",
      "                                                                 input_4[0][0]                    \n",
      "__________________________________________________________________________________________________\n",
      "dense_1 (Dense)                 (None, None, 2622)   673854      lstm_2[1][0]                     \n",
      "==================================================================================================\n",
      "Total params: 3,621,950\n",
      "Trainable params: 3,621,950\n",
      "Non-trainable params: 0\n",
      "__________________________________________________________________________________________________\n"
     ]
    }
   ],
   "source": [
    "decoder_model.summary()"
   ]
  },
  {
   "cell_type": "code",
   "execution_count": 15,
   "metadata": {
    "ExecuteTime": {
     "end_time": "2018-12-03T03:13:57.314291Z",
     "start_time": "2018-12-03T03:13:57.293116Z"
    }
   },
   "outputs": [
    {
     "name": "stdout",
     "output_type": "stream",
     "text": [
      "I can swim well.\n"
     ]
    },
    {
     "data": {
      "text/plain": [
       "(1, 30, 73)"
      ]
     },
     "execution_count": 15,
     "metadata": {},
     "output_type": "execute_result"
    }
   ],
   "source": [
    "seq_index = 1000\n",
    "input_seq = encoder_input_data[seq_index:seq_index+1]\n",
    "print(input_texts[seq_index])\n",
    "input_seq.shape"
   ]
  },
  {
   "cell_type": "code",
   "execution_count": 16,
   "metadata": {
    "ExecuteTime": {
     "end_time": "2018-12-03T03:13:57.337064Z",
     "start_time": "2018-12-03T03:13:57.317507Z"
    }
   },
   "outputs": [
    {
     "name": "stdout",
     "output_type": "stream",
     "text": [
      "status h shape: (1, 256)\n",
      "status c shape: (1, 256)\n"
     ]
    }
   ],
   "source": [
    "states_value = encoder_model.predict(input_seq)\n",
    "\n",
    "# 生成一个size=1的空序列\n",
    "target_seq = np.zeros((1, 1, num_decoder_tokens))\n",
    "# 将这个空序列的内容设置为开始字符\n",
    "target_seq[0, 0, target_token_index['\\t']] = 1.\n",
    "\n",
    "# 进行字符恢复\n",
    "# 简单起见，假设batch_size = 1\n",
    "stop_condition = False\n",
    "decoded_sentence = ''\n",
    "\n",
    "print('status h shape: {}'.format(states_value[0].shape))\n",
    "print('status c shape: {}'.format(states_value[1].shape))"
   ]
  },
  {
   "cell_type": "markdown",
   "metadata": {
    "ExecuteTime": {
     "end_time": "2018-12-02T23:46:10.982861Z",
     "start_time": "2018-12-02T23:46:10.977474Z"
    }
   },
   "source": [
    "### round 1"
   ]
  },
  {
   "cell_type": "code",
   "execution_count": 17,
   "metadata": {
    "ExecuteTime": {
     "end_time": "2018-12-03T03:13:57.346089Z",
     "start_time": "2018-12-03T03:13:57.339974Z"
    }
   },
   "outputs": [
    {
     "name": "stdout",
     "output_type": "stream",
     "text": [
      "(1, 1, 2622)\n"
     ]
    }
   ],
   "source": [
    "output_tokens, h, c = decoder_model.predict([target_seq] + states_value)\n",
    "print(output_tokens.shape)"
   ]
  },
  {
   "cell_type": "code",
   "execution_count": 18,
   "metadata": {
    "ExecuteTime": {
     "end_time": "2018-12-03T03:13:57.358098Z",
     "start_time": "2018-12-03T03:13:57.352748Z"
    }
   },
   "outputs": [
    {
     "name": "stdout",
     "output_type": "stream",
     "text": [
      "sampled char is: 我\n",
      "decoded sentence is: 我\n"
     ]
    }
   ],
   "source": [
    "# sample a token\n",
    "sampled_token_index = np.argmax(output_tokens[0, -1, :])\n",
    "sampled_char = reverse_target_char_index[sampled_token_index]\n",
    "decoded_sentence += sampled_char\n",
    "print('sampled char is: {}' . format(sampled_char))\n",
    "print('decoded sentence is: {}' . format(decoded_sentence))"
   ]
  },
  {
   "cell_type": "code",
   "execution_count": 19,
   "metadata": {
    "ExecuteTime": {
     "end_time": "2018-12-03T03:13:57.365789Z",
     "start_time": "2018-12-03T03:13:57.362051Z"
    }
   },
   "outputs": [],
   "source": [
    " # 更新target_seq\n",
    "target_seq = np.zeros((1, 1, num_decoder_tokens))\n",
    "target_seq[0, 0, sampled_token_index] = 1.\n",
    "\n",
    "# 更新中间状态\n",
    "states_value = [h, c]"
   ]
  },
  {
   "cell_type": "markdown",
   "metadata": {},
   "source": [
    "### round 2"
   ]
  },
  {
   "cell_type": "code",
   "execution_count": 20,
   "metadata": {
    "ExecuteTime": {
     "end_time": "2018-12-03T03:13:57.376359Z",
     "start_time": "2018-12-03T03:13:57.368281Z"
    }
   },
   "outputs": [
    {
     "name": "stdout",
     "output_type": "stream",
     "text": [
      "(1, 1, 2622)\n",
      "sampled char is: 不\n",
      "decoded sentence is: 我不\n"
     ]
    }
   ],
   "source": [
    "output_tokens, h, c = decoder_model.predict([target_seq] + states_value)\n",
    "print(output_tokens.shape)\n",
    "\n",
    "# sample a token\n",
    "sampled_token_index = np.argmax(output_tokens[0, -1, :])\n",
    "sampled_char = reverse_target_char_index[sampled_token_index]\n",
    "decoded_sentence += sampled_char\n",
    "print('sampled char is: {}' . format(sampled_char))\n",
    "print('decoded sentence is: {}' . format(decoded_sentence))\n",
    "\n",
    " # 更新target_seq\n",
    "target_seq = np.zeros((1, 1, num_decoder_tokens))\n",
    "target_seq[0, 0, sampled_token_index] = 1.\n",
    "\n",
    "# 更新中间状态\n",
    "states_value = [h, c]"
   ]
  },
  {
   "cell_type": "markdown",
   "metadata": {},
   "source": [
    "### round 3"
   ]
  },
  {
   "cell_type": "code",
   "execution_count": 21,
   "metadata": {
    "ExecuteTime": {
     "end_time": "2018-12-03T03:13:57.385908Z",
     "start_time": "2018-12-03T03:13:57.378710Z"
    }
   },
   "outputs": [
    {
     "name": "stdout",
     "output_type": "stream",
     "text": [
      "(1, 1, 2622)\n",
      "sampled char is: 能\n",
      "decoded sentence is: 我不能\n"
     ]
    }
   ],
   "source": [
    "output_tokens, h, c = decoder_model.predict([target_seq] + states_value)\n",
    "print(output_tokens.shape)\n",
    "\n",
    "# sample a token\n",
    "sampled_token_index = np.argmax(output_tokens[0, -1, :])\n",
    "sampled_char = reverse_target_char_index[sampled_token_index]\n",
    "decoded_sentence += sampled_char\n",
    "print('sampled char is: {}' . format(sampled_char))\n",
    "print('decoded sentence is: {}' . format(decoded_sentence))\n",
    "\n",
    " # 更新target_seq\n",
    "target_seq = np.zeros((1, 1, num_decoder_tokens))\n",
    "target_seq[0, 0, sampled_token_index] = 1.\n",
    "\n",
    "# 更新中间状态\n",
    "states_value = [h, c]"
   ]
  },
  {
   "cell_type": "markdown",
   "metadata": {},
   "source": [
    "### round 4"
   ]
  },
  {
   "cell_type": "code",
   "execution_count": 22,
   "metadata": {
    "ExecuteTime": {
     "end_time": "2018-12-03T03:13:57.395449Z",
     "start_time": "2018-12-03T03:13:57.387972Z"
    }
   },
   "outputs": [
    {
     "name": "stdout",
     "output_type": "stream",
     "text": [
      "(1, 1, 2622)\n",
      "sampled char is: 在\n",
      "decoded sentence is: 我不能在\n"
     ]
    }
   ],
   "source": [
    "output_tokens, h, c = decoder_model.predict([target_seq] + states_value)\n",
    "print(output_tokens.shape)\n",
    "\n",
    "# sample a token\n",
    "sampled_token_index = np.argmax(output_tokens[0, -1, :])\n",
    "sampled_char = reverse_target_char_index[sampled_token_index]\n",
    "decoded_sentence += sampled_char\n",
    "print('sampled char is: {}' . format(sampled_char))\n",
    "print('decoded sentence is: {}' . format(decoded_sentence))\n",
    "\n",
    " # 更新target_seq\n",
    "target_seq = np.zeros((1, 1, num_decoder_tokens))\n",
    "target_seq[0, 0, sampled_token_index] = 1.\n",
    "\n",
    "# 更新中间状态\n",
    "states_value = [h, c]"
   ]
  },
  {
   "cell_type": "markdown",
   "metadata": {},
   "source": [
    "### round 5"
   ]
  },
  {
   "cell_type": "code",
   "execution_count": 23,
   "metadata": {
    "ExecuteTime": {
     "end_time": "2018-12-03T03:13:57.405397Z",
     "start_time": "2018-12-03T03:13:57.397920Z"
    }
   },
   "outputs": [
    {
     "name": "stdout",
     "output_type": "stream",
     "text": [
      "(1, 1, 2622)\n",
      "sampled char is: 这\n",
      "decoded sentence is: 我不能在这\n"
     ]
    }
   ],
   "source": [
    "output_tokens, h, c = decoder_model.predict([target_seq] + states_value)\n",
    "print(output_tokens.shape)\n",
    "\n",
    "# sample a token\n",
    "sampled_token_index = np.argmax(output_tokens[0, -1, :])\n",
    "sampled_char = reverse_target_char_index[sampled_token_index]\n",
    "decoded_sentence += sampled_char\n",
    "print('sampled char is: {}' . format(sampled_char))\n",
    "print('decoded sentence is: {}' . format(decoded_sentence))\n",
    "\n",
    " # 更新target_seq\n",
    "target_seq = np.zeros((1, 1, num_decoder_tokens))\n",
    "target_seq[0, 0, sampled_token_index] = 1.\n",
    "\n",
    "# 更新中间状态\n",
    "states_value = [h, c]"
   ]
  },
  {
   "cell_type": "markdown",
   "metadata": {},
   "source": [
    "#### round 6"
   ]
  },
  {
   "cell_type": "code",
   "execution_count": 24,
   "metadata": {
    "ExecuteTime": {
     "end_time": "2018-12-03T03:13:57.415618Z",
     "start_time": "2018-12-03T03:13:57.407687Z"
    }
   },
   "outputs": [
    {
     "name": "stdout",
     "output_type": "stream",
     "text": [
      "(1, 1, 2622)\n",
      "sampled char is: 里\n",
      "decoded sentence is: 我不能在这里\n"
     ]
    }
   ],
   "source": [
    "output_tokens, h, c = decoder_model.predict([target_seq] + states_value)\n",
    "print(output_tokens.shape)\n",
    "\n",
    "# sample a token\n",
    "sampled_token_index = np.argmax(output_tokens[0, -1, :])\n",
    "sampled_char = reverse_target_char_index[sampled_token_index]\n",
    "decoded_sentence += sampled_char\n",
    "print('sampled char is: {}' . format(sampled_char))\n",
    "print('decoded sentence is: {}' . format(decoded_sentence))\n",
    "\n",
    " # 更新target_seq\n",
    "target_seq = np.zeros((1, 1, num_decoder_tokens))\n",
    "target_seq[0, 0, sampled_token_index] = 1.\n",
    "\n",
    "# 更新中间状态\n",
    "states_value = [h, c]"
   ]
  },
  {
   "cell_type": "markdown",
   "metadata": {},
   "source": [
    "### round 7"
   ]
  },
  {
   "cell_type": "code",
   "execution_count": 25,
   "metadata": {
    "ExecuteTime": {
     "end_time": "2018-12-03T03:13:57.426151Z",
     "start_time": "2018-12-03T03:13:57.418031Z"
    }
   },
   "outputs": [
    {
     "name": "stdout",
     "output_type": "stream",
     "text": [
      "(1, 1, 2622)\n",
      "sampled char is: 。\n",
      "decoded sentence is: 我不能在这里。\n"
     ]
    }
   ],
   "source": [
    "output_tokens, h, c = decoder_model.predict([target_seq] + states_value)\n",
    "print(output_tokens.shape)\n",
    "\n",
    "# sample a token\n",
    "sampled_token_index = np.argmax(output_tokens[0, -1, :])\n",
    "sampled_char = reverse_target_char_index[sampled_token_index]\n",
    "decoded_sentence += sampled_char\n",
    "print('sampled char is: {}' . format(sampled_char))\n",
    "print('decoded sentence is: {}' . format(decoded_sentence))\n",
    "\n",
    " # 更新target_seq\n",
    "target_seq = np.zeros((1, 1, num_decoder_tokens))\n",
    "target_seq[0, 0, sampled_token_index] = 1.\n",
    "\n",
    "# 更新中间状态\n",
    "states_value = [h, c]"
   ]
  },
  {
   "cell_type": "code",
   "execution_count": 26,
   "metadata": {
    "ExecuteTime": {
     "end_time": "2018-12-03T03:13:57.432557Z",
     "start_time": "2018-12-03T03:13:57.428532Z"
    }
   },
   "outputs": [
    {
     "data": {
      "text/plain": [
       "'。'"
      ]
     },
     "execution_count": 26,
     "metadata": {},
     "output_type": "execute_result"
    }
   ],
   "source": [
    "sampled_char"
   ]
  }
 ],
 "metadata": {
  "kernelspec": {
   "display_name": "python3.6-GPU",
   "language": "python",
   "name": "python3.6-gpu"
  },
  "language_info": {
   "codemirror_mode": {
    "name": "ipython",
    "version": 3
   },
   "file_extension": ".py",
   "mimetype": "text/x-python",
   "name": "python",
   "nbconvert_exporter": "python",
   "pygments_lexer": "ipython3",
   "version": "3.6.6"
  }
 },
 "nbformat": 4,
 "nbformat_minor": 2
}
